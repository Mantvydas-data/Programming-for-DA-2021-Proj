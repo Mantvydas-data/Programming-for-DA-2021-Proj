{
 "cells": [
  {
   "cell_type": "markdown",
   "id": "e6703d70-3cc2-4783-ab77-ae085fad95d0",
   "metadata": {},
   "source": [
    "# Picture\n"
   ]
  },
  {
   "cell_type": "markdown",
   "id": "31024cb0-2246-4c6d-9939-11e77fa52c82",
   "metadata": {},
   "source": [
    "# Intro\n",
    "***\n",
    "The aim of this project is to simulate dataset that represents real life measurable phenomenon with simulated dataset having at least one hundred data point with at least four different variables. Sinthesised data should have close to real life properties and relationship amongst variables."
   ]
  },
  {
   "cell_type": "markdown",
   "id": "f27f24d1-0929-44f1-82c7-ba5feb53784e",
   "metadata": {},
   "source": [
    "# Project description plan\n",
    "***\n",
    "During recent wordwide lockdown it became increasingly popular to have a subscription to one of many movie/TV streaming services. These platforms experienced unprecedented growth month on month basis becoming daily habit for most. This project will look into simulating a dataset of fictional movie streaming platform 'MFLIX' usage log with dates, movie stream count per hour, movie category, user ID, user gender and name with surname. Different methods learned during this semester will be used in this project."
   ]
  },
  {
   "cell_type": "markdown",
   "id": "fe223782-cfbe-4ec6-943e-f3a3cde85940",
   "metadata": {},
   "source": [
    "# Generating data"
   ]
  },
  {
   "cell_type": "code",
   "execution_count": null,
   "id": "a4e238ec-24ac-4d70-9e42-3a36a9fe66c1",
   "metadata": {},
   "outputs": [],
   "source": []
  },
  {
   "cell_type": "markdown",
   "id": "8e3da8a2-8a60-4ad3-a253-8fadb1c6a9b6",
   "metadata": {},
   "source": [
    "# Dates and times by hour\n",
    "A date list with hourly timestamp"
   ]
  },
  {
   "cell_type": "code",
   "execution_count": null,
   "id": "dca46334-9123-453e-a75f-9f11d20341a1",
   "metadata": {},
   "outputs": [],
   "source": []
  },
  {
   "cell_type": "markdown",
   "id": "5ea2be8b-0ee5-4c81-8d7b-9055da48464c",
   "metadata": {},
   "source": [
    "# Streams\n",
    "Depends on time of the day"
   ]
  },
  {
   "cell_type": "code",
   "execution_count": null,
   "id": "856cf6de-4d76-4f26-a2d8-bc8eaf6a856b",
   "metadata": {},
   "outputs": [],
   "source": []
  },
  {
   "cell_type": "markdown",
   "id": "3c695362-e80a-4f2e-b15b-39ae640100b6",
   "metadata": {},
   "source": [
    "# Movie category\n",
    "Randon selection from available list "
   ]
  },
  {
   "cell_type": "code",
   "execution_count": null,
   "id": "21a19515-4a0c-4632-902a-22c069940285",
   "metadata": {},
   "outputs": [],
   "source": []
  },
  {
   "cell_type": "markdown",
   "id": "4065068f-f9b2-4d3d-88ef-4fab9cf73002",
   "metadata": {},
   "source": [
    "# User gender"
   ]
  },
  {
   "cell_type": "code",
   "execution_count": null,
   "id": "a837f658-d615-4799-b333-30e0a3c4afba",
   "metadata": {},
   "outputs": [],
   "source": []
  },
  {
   "cell_type": "markdown",
   "id": "761693eb-0462-4653-9f14-67cf57477a4e",
   "metadata": {},
   "source": [
    "# User Name and Surname?\n",
    "Depends on gender to be chosen from a list"
   ]
  },
  {
   "cell_type": "markdown",
   "id": "a0505e13-9581-4c25-8779-725b90516f4c",
   "metadata": {},
   "source": [
    "https://www.irishcentral.com/roots/100-irish-language-first-names-meanings"
   ]
  },
  {
   "cell_type": "code",
   "execution_count": null,
   "id": "81aa1349-1fb0-4af1-bc35-ff648a37b4fe",
   "metadata": {},
   "outputs": [],
   "source": []
  },
  {
   "cell_type": "markdown",
   "id": "59794f11-19b3-4901-9125-666de8299f99",
   "metadata": {},
   "source": [
    "# Save as CSV/xlsx"
   ]
  },
  {
   "cell_type": "code",
   "execution_count": null,
   "id": "57d968b9-6b91-4f21-8a5e-757d9102e288",
   "metadata": {},
   "outputs": [],
   "source": []
  },
  {
   "cell_type": "code",
   "execution_count": null,
   "id": "1aa551c4-58af-4185-807d-d55adbe8e709",
   "metadata": {},
   "outputs": [],
   "source": []
  },
  {
   "cell_type": "code",
   "execution_count": null,
   "id": "7b210c3e-3930-417b-a214-87c6bddd355e",
   "metadata": {},
   "outputs": [],
   "source": []
  },
  {
   "cell_type": "markdown",
   "id": "bb0e87e8-686b-441e-a595-ef2bf702d4b3",
   "metadata": {},
   "source": [
    "# Data overview and analysis"
   ]
  },
  {
   "cell_type": "code",
   "execution_count": null,
   "id": "87bd68df-895e-4e3b-9cc1-d22043de8ff9",
   "metadata": {},
   "outputs": [],
   "source": []
  },
  {
   "cell_type": "markdown",
   "id": "7e5e19c3-588c-459c-9782-622ab5c989cc",
   "metadata": {},
   "source": [
    "# Plots"
   ]
  },
  {
   "cell_type": "code",
   "execution_count": null,
   "id": "3a86e995-5a0c-4362-a2a5-ace0f5d9d780",
   "metadata": {},
   "outputs": [],
   "source": []
  },
  {
   "cell_type": "markdown",
   "id": "8a1ca4c2-709e-42c3-80cf-ed5af0196b1f",
   "metadata": {},
   "source": [
    "# References"
   ]
  },
  {
   "cell_type": "markdown",
   "id": "e5366d2d-76f7-45a7-8b88-c3df4cc64cdb",
   "metadata": {},
   "source": [
    "https://stackoverflow.com/questions/41598916/resize-the-image-in-jupyter-notebook-using-markdown"
   ]
  },
  {
   "cell_type": "markdown",
   "id": "79a1b6be-659e-4cea-bbd1-6453b7552c86",
   "metadata": {},
   "source": [
    "https://stackoverflow.com/questions/41598916/resize-the-image-in-jupyter-notebook-using-markdown"
   ]
  },
  {
   "cell_type": "markdown",
   "id": "e678474e-1af7-4d83-9ae1-d37a2ae21d4a",
   "metadata": {},
   "source": [
    "https://stackoverflow.com/questions/56310849/generate-random-timeseries-data-with-dates"
   ]
  },
  {
   "cell_type": "markdown",
   "id": "870f4587-3c9b-478d-a80e-e71ea0afd784",
   "metadata": {},
   "source": [
    "https://pandas.pydata.org/pandas-docs/stable/user_guide/timeseries.html"
   ]
  },
  {
   "cell_type": "markdown",
   "id": "d194097c-b9c7-4fe2-a2f9-7df24c2461cb",
   "metadata": {},
   "source": [
    "https://pandas.pydata.org/pandas-docs/stable/user_guide/timeseries.html"
   ]
  },
  {
   "cell_type": "code",
   "execution_count": null,
   "id": "71936163-880b-4fdd-aa86-3791baa57481",
   "metadata": {},
   "outputs": [],
   "source": []
  }
 ],
 "metadata": {
  "kernelspec": {
   "display_name": "Python 3",
   "language": "python",
   "name": "python3"
  },
  "language_info": {
   "codemirror_mode": {
    "name": "ipython",
    "version": 3
   },
   "file_extension": ".py",
   "mimetype": "text/x-python",
   "name": "python",
   "nbconvert_exporter": "python",
   "pygments_lexer": "ipython3",
   "version": "3.8.8"
  }
 },
 "nbformat": 4,
 "nbformat_minor": 5
}
