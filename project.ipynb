{
 "cells": [
  {
   "cell_type": "markdown",
   "id": "9caef092-e8a6-40f5-b6f5-36a3cada52f5",
   "metadata": {},
   "source": [
    "![film](https://raw.githubusercontent.com/Mantvydas-data/Programming-for-DA-2021-Proj/main/data/denise-jans-tV80374iytg-unsplash.PNG)\n",
    "\n",
    "Photo by <a href=\"https://unsplash.com/@dmjdenise?utm_source=unsplash&utm_medium=referral&utm_content=creditCopyText\">Denise Jans</a> on <a href=\"https://unsplash.com/s/photos/film?utm_source=unsplash&utm_medium=referral&utm_content=creditCopyText\">Unsplash</a>\n"
   ]
  },
  {
   "cell_type": "markdown",
   "id": "0efd8881-fdbc-4751-942e-b0825930ea7b",
   "metadata": {},
   "source": [
    "# Intro\n",
    "***\n",
    "The aim of this project is to simulate dataset that represents real life measurable phenomenon with simulated dataset having at least one hundred data point with at least four different variables. Sinthesised data should have close to real life properties and relationship amongst variables."
   ]
  },
  {
   "cell_type": "markdown",
   "id": "f27f24d1-0929-44f1-82c7-ba5feb53784e",
   "metadata": {},
   "source": [
    "# Project description plan\n",
    "***\n",
    "During recent wordwide lockdown it became increasingly popular to have a subscription to one of many movie/TV streaming services. These platforms experienced unprecedented growth month on month basis becoming daily habit for most. This project will look into simulating a dataset of fictional movie streaming platform 'MFLIX' usage log with dates, movie stream count per hour, movie category, user ID, user gender and name with surname. Different methods learned during this semester will be used in this project."
   ]
  },
  {
   "cell_type": "markdown",
   "id": "fe223782-cfbe-4ec6-943e-f3a3cde85940",
   "metadata": {},
   "source": [
    "# Generating data"
   ]
  },
  {
   "cell_type": "code",
   "execution_count": 1,
   "id": "a4e238ec-24ac-4d70-9e42-3a36a9fe66c1",
   "metadata": {},
   "outputs": [],
   "source": [
    "# Importing required packages by their orthodox abbreviations\n",
    "import matplotlib.pyplot as plt # Plotting\n",
    "import numpy as np # Mathematical arrays\n",
    "import pandas as pd # Work with data frames\n",
    "\n",
    "# Importing random generator and assigning it to rng variable\n",
    "from numpy.random import default_rng\n",
    "\n",
    "rng = default_rng()"
   ]
  },
  {
   "cell_type": "markdown",
   "id": "8e3da8a2-8a60-4ad3-a253-8fadb1c6a9b6",
   "metadata": {},
   "source": [
    "# Dates and times by hour\n",
    "A date list with hourly timestamp"
   ]
  },
  {
   "cell_type": "code",
   "execution_count": 2,
   "id": "dca46334-9123-453e-a75f-9f11d20341a1",
   "metadata": {},
   "outputs": [
    {
     "data": {
      "text/plain": [
       "DatetimeIndex(['2021-12-01 00:00:00', '2021-12-01 01:00:00',\n",
       "               '2021-12-01 02:00:00', '2021-12-01 03:00:00',\n",
       "               '2021-12-01 04:00:00', '2021-12-01 05:00:00',\n",
       "               '2021-12-01 06:00:00', '2021-12-01 07:00:00',\n",
       "               '2021-12-01 08:00:00', '2021-12-01 09:00:00',\n",
       "               ...\n",
       "               '2021-12-31 14:00:00', '2021-12-31 15:00:00',\n",
       "               '2021-12-31 16:00:00', '2021-12-31 17:00:00',\n",
       "               '2021-12-31 18:00:00', '2021-12-31 19:00:00',\n",
       "               '2021-12-31 20:00:00', '2021-12-31 21:00:00',\n",
       "               '2021-12-31 22:00:00', '2021-12-31 23:00:00'],\n",
       "              dtype='datetime64[ns]', length=744, freq='H')"
      ]
     },
     "execution_count": 2,
     "metadata": {},
     "output_type": "execute_result"
    }
   ],
   "source": [
    "# Generating a range of dates by the hour\n",
    "\n",
    "# Count of hourly observations for month of December\n",
    "periods = 31*24\n",
    "\n",
    "# Hourly date and time for December\n",
    "dfdate = pd.date_range('2021-12-01', freq='H', periods=periods)\n",
    "\n",
    "dfdate\n"
   ]
  },
  {
   "cell_type": "markdown",
   "id": "5ea2be8b-0ee5-4c81-8d7b-9055da48464c",
   "metadata": {},
   "source": [
    "# Streaming counts - Depends on time of the day. \n",
    "***\n",
    "To have realistic sream data views per hour needs to adhere to time of day to simulate peak-offpeak times of the day. Time serries data will be split by time of the day for random stream data count to be generated having not many streams during late night and early morning hours, medium usage during the day and peak time from 5 PM to 1AM. Streams will be 30% higher on Fridays, where on Saturday and Sunday they will increase to 40% compared to work day usage."
   ]
  },
  {
   "cell_type": "code",
   "execution_count": 3,
   "id": "856cf6de-4d76-4f26-a2d8-bc8eaf6a856b",
   "metadata": {},
   "outputs": [
    {
     "data": {
      "text/html": [
       "<div>\n",
       "<style scoped>\n",
       "    .dataframe tbody tr th:only-of-type {\n",
       "        vertical-align: middle;\n",
       "    }\n",
       "\n",
       "    .dataframe tbody tr th {\n",
       "        vertical-align: top;\n",
       "    }\n",
       "\n",
       "    .dataframe thead th {\n",
       "        text-align: right;\n",
       "    }\n",
       "</style>\n",
       "<table border=\"1\" class=\"dataframe\">\n",
       "  <thead>\n",
       "    <tr style=\"text-align: right;\">\n",
       "      <th></th>\n",
       "      <th>H</th>\n",
       "    </tr>\n",
       "  </thead>\n",
       "  <tbody>\n",
       "    <tr>\n",
       "      <th>2021-12-01 03:00:00</th>\n",
       "      <td>3</td>\n",
       "    </tr>\n",
       "    <tr>\n",
       "      <th>2021-12-01 04:00:00</th>\n",
       "      <td>4</td>\n",
       "    </tr>\n",
       "    <tr>\n",
       "      <th>2021-12-01 05:00:00</th>\n",
       "      <td>5</td>\n",
       "    </tr>\n",
       "    <tr>\n",
       "      <th>2021-12-01 06:00:00</th>\n",
       "      <td>6</td>\n",
       "    </tr>\n",
       "    <tr>\n",
       "      <th>2021-12-02 03:00:00</th>\n",
       "      <td>27</td>\n",
       "    </tr>\n",
       "    <tr>\n",
       "      <th>...</th>\n",
       "      <td>...</td>\n",
       "    </tr>\n",
       "    <tr>\n",
       "      <th>2021-12-30 06:00:00</th>\n",
       "      <td>702</td>\n",
       "    </tr>\n",
       "    <tr>\n",
       "      <th>2021-12-31 03:00:00</th>\n",
       "      <td>723</td>\n",
       "    </tr>\n",
       "    <tr>\n",
       "      <th>2021-12-31 04:00:00</th>\n",
       "      <td>724</td>\n",
       "    </tr>\n",
       "    <tr>\n",
       "      <th>2021-12-31 05:00:00</th>\n",
       "      <td>725</td>\n",
       "    </tr>\n",
       "    <tr>\n",
       "      <th>2021-12-31 06:00:00</th>\n",
       "      <td>726</td>\n",
       "    </tr>\n",
       "  </tbody>\n",
       "</table>\n",
       "<p>124 rows × 1 columns</p>\n",
       "</div>"
      ],
      "text/plain": [
       "                       H\n",
       "2021-12-01 03:00:00    3\n",
       "2021-12-01 04:00:00    4\n",
       "2021-12-01 05:00:00    5\n",
       "2021-12-01 06:00:00    6\n",
       "2021-12-02 03:00:00   27\n",
       "...                  ...\n",
       "2021-12-30 06:00:00  702\n",
       "2021-12-31 03:00:00  723\n",
       "2021-12-31 04:00:00  724\n",
       "2021-12-31 05:00:00  725\n",
       "2021-12-31 06:00:00  726\n",
       "\n",
       "[124 rows x 1 columns]"
      ]
     },
     "execution_count": 3,
     "metadata": {},
     "output_type": "execute_result"
    }
   ],
   "source": [
    "# Creating H columnt to number each hour sample in the date range \n",
    "df= pd.DataFrame({'H': np.arange(len(dfdate))}, index=dfdate)\n",
    "\n",
    "# Spliting time series by time of day as dataframe variable\n",
    "night = pd.DataFrame(df.between_time(\"02:01\",\"06:00\"))\n",
    "morning = pd.DataFrame(df.between_time(\"06:01\",\"12:00\"))\n",
    "afternoon = pd.DataFrame(df.between_time(\"12:01\",\"17:00\"))\n",
    "evening = pd.DataFrame(df.between_time(\"17:01\",\"02:00\"))\n",
    "\n",
    "night"
   ]
  },
  {
   "cell_type": "code",
   "execution_count": 4,
   "id": "7086cdbf-f4a7-4bdb-94be-c231db4f9634",
   "metadata": {},
   "outputs": [],
   "source": [
    "# Setting time of day clasification by times  \n",
    "night['periods'] = 'night'\n",
    "morning['periods'] = 'morning'\n",
    "afternoon['periods'] = 'afternoon'\n",
    "evening['periods'] = 'evening'"
   ]
  },
  {
   "cell_type": "code",
   "execution_count": 5,
   "id": "237b31b5-3568-44ad-bea6-476fdabd516e",
   "metadata": {},
   "outputs": [],
   "source": [
    "# Adding date-time as value instead of index\n",
    "df['udates'] = df.index\n",
    "# Populating weekdays for weekend usage to be incremented\n",
    "df['weekday'] = df.index.weekday"
   ]
  },
  {
   "cell_type": "code",
   "execution_count": 6,
   "id": "29873508-2167-426b-a11b-83e668ba537c",
   "metadata": {},
   "outputs": [
    {
     "data": {
      "text/html": [
       "<div>\n",
       "<style scoped>\n",
       "    .dataframe tbody tr th:only-of-type {\n",
       "        vertical-align: middle;\n",
       "    }\n",
       "\n",
       "    .dataframe tbody tr th {\n",
       "        vertical-align: top;\n",
       "    }\n",
       "\n",
       "    .dataframe thead th {\n",
       "        text-align: right;\n",
       "    }\n",
       "</style>\n",
       "<table border=\"1\" class=\"dataframe\">\n",
       "  <thead>\n",
       "    <tr style=\"text-align: right;\">\n",
       "      <th></th>\n",
       "      <th>udates</th>\n",
       "      <th>weekday</th>\n",
       "    </tr>\n",
       "    <tr>\n",
       "      <th>H</th>\n",
       "      <th></th>\n",
       "      <th></th>\n",
       "    </tr>\n",
       "  </thead>\n",
       "  <tbody>\n",
       "    <tr>\n",
       "      <th>0</th>\n",
       "      <td>2021-12-01 00:00:00</td>\n",
       "      <td>2</td>\n",
       "    </tr>\n",
       "    <tr>\n",
       "      <th>1</th>\n",
       "      <td>2021-12-01 01:00:00</td>\n",
       "      <td>2</td>\n",
       "    </tr>\n",
       "    <tr>\n",
       "      <th>2</th>\n",
       "      <td>2021-12-01 02:00:00</td>\n",
       "      <td>2</td>\n",
       "    </tr>\n",
       "    <tr>\n",
       "      <th>3</th>\n",
       "      <td>2021-12-01 03:00:00</td>\n",
       "      <td>2</td>\n",
       "    </tr>\n",
       "    <tr>\n",
       "      <th>4</th>\n",
       "      <td>2021-12-01 04:00:00</td>\n",
       "      <td>2</td>\n",
       "    </tr>\n",
       "    <tr>\n",
       "      <th>...</th>\n",
       "      <td>...</td>\n",
       "      <td>...</td>\n",
       "    </tr>\n",
       "    <tr>\n",
       "      <th>739</th>\n",
       "      <td>2021-12-31 19:00:00</td>\n",
       "      <td>4</td>\n",
       "    </tr>\n",
       "    <tr>\n",
       "      <th>740</th>\n",
       "      <td>2021-12-31 20:00:00</td>\n",
       "      <td>4</td>\n",
       "    </tr>\n",
       "    <tr>\n",
       "      <th>741</th>\n",
       "      <td>2021-12-31 21:00:00</td>\n",
       "      <td>4</td>\n",
       "    </tr>\n",
       "    <tr>\n",
       "      <th>742</th>\n",
       "      <td>2021-12-31 22:00:00</td>\n",
       "      <td>4</td>\n",
       "    </tr>\n",
       "    <tr>\n",
       "      <th>743</th>\n",
       "      <td>2021-12-31 23:00:00</td>\n",
       "      <td>4</td>\n",
       "    </tr>\n",
       "  </tbody>\n",
       "</table>\n",
       "<p>744 rows × 2 columns</p>\n",
       "</div>"
      ],
      "text/plain": [
       "                 udates  weekday\n",
       "H                               \n",
       "0   2021-12-01 00:00:00        2\n",
       "1   2021-12-01 01:00:00        2\n",
       "2   2021-12-01 02:00:00        2\n",
       "3   2021-12-01 03:00:00        2\n",
       "4   2021-12-01 04:00:00        2\n",
       "..                  ...      ...\n",
       "739 2021-12-31 19:00:00        4\n",
       "740 2021-12-31 20:00:00        4\n",
       "741 2021-12-31 21:00:00        4\n",
       "742 2021-12-31 22:00:00        4\n",
       "743 2021-12-31 23:00:00        4\n",
       "\n",
       "[744 rows x 2 columns]"
      ]
     },
     "execution_count": 6,
     "metadata": {},
     "output_type": "execute_result"
    }
   ],
   "source": [
    "# Setting df index to H for data to be joined based on\n",
    "df.set_index('H', inplace=True)\n",
    "df"
   ]
  },
  {
   "cell_type": "code",
   "execution_count": 7,
   "id": "5b80aea0-2f54-40f2-b12d-81093bb5e4b6",
   "metadata": {},
   "outputs": [
    {
     "data": {
      "text/html": [
       "<div>\n",
       "<style scoped>\n",
       "    .dataframe tbody tr th:only-of-type {\n",
       "        vertical-align: middle;\n",
       "    }\n",
       "\n",
       "    .dataframe tbody tr th {\n",
       "        vertical-align: top;\n",
       "    }\n",
       "\n",
       "    .dataframe thead th {\n",
       "        text-align: right;\n",
       "    }\n",
       "</style>\n",
       "<table border=\"1\" class=\"dataframe\">\n",
       "  <thead>\n",
       "    <tr style=\"text-align: right;\">\n",
       "      <th></th>\n",
       "      <th>udates</th>\n",
       "      <th>weekday</th>\n",
       "    </tr>\n",
       "    <tr>\n",
       "      <th>H</th>\n",
       "      <th></th>\n",
       "      <th></th>\n",
       "    </tr>\n",
       "  </thead>\n",
       "  <tbody>\n",
       "    <tr>\n",
       "      <th>0</th>\n",
       "      <td>2021-12-01 00:00:00</td>\n",
       "      <td>2</td>\n",
       "    </tr>\n",
       "    <tr>\n",
       "      <th>1</th>\n",
       "      <td>2021-12-01 01:00:00</td>\n",
       "      <td>2</td>\n",
       "    </tr>\n",
       "    <tr>\n",
       "      <th>2</th>\n",
       "      <td>2021-12-01 02:00:00</td>\n",
       "      <td>2</td>\n",
       "    </tr>\n",
       "    <tr>\n",
       "      <th>3</th>\n",
       "      <td>2021-12-01 03:00:00</td>\n",
       "      <td>2</td>\n",
       "    </tr>\n",
       "    <tr>\n",
       "      <th>4</th>\n",
       "      <td>2021-12-01 04:00:00</td>\n",
       "      <td>2</td>\n",
       "    </tr>\n",
       "    <tr>\n",
       "      <th>...</th>\n",
       "      <td>...</td>\n",
       "      <td>...</td>\n",
       "    </tr>\n",
       "    <tr>\n",
       "      <th>739</th>\n",
       "      <td>2021-12-31 19:00:00</td>\n",
       "      <td>4</td>\n",
       "    </tr>\n",
       "    <tr>\n",
       "      <th>740</th>\n",
       "      <td>2021-12-31 20:00:00</td>\n",
       "      <td>4</td>\n",
       "    </tr>\n",
       "    <tr>\n",
       "      <th>741</th>\n",
       "      <td>2021-12-31 21:00:00</td>\n",
       "      <td>4</td>\n",
       "    </tr>\n",
       "    <tr>\n",
       "      <th>742</th>\n",
       "      <td>2021-12-31 22:00:00</td>\n",
       "      <td>4</td>\n",
       "    </tr>\n",
       "    <tr>\n",
       "      <th>743</th>\n",
       "      <td>2021-12-31 23:00:00</td>\n",
       "      <td>4</td>\n",
       "    </tr>\n",
       "  </tbody>\n",
       "</table>\n",
       "<p>744 rows × 2 columns</p>\n",
       "</div>"
      ],
      "text/plain": [
       "                 udates  weekday\n",
       "H                               \n",
       "0   2021-12-01 00:00:00        2\n",
       "1   2021-12-01 01:00:00        2\n",
       "2   2021-12-01 02:00:00        2\n",
       "3   2021-12-01 03:00:00        2\n",
       "4   2021-12-01 04:00:00        2\n",
       "..                  ...      ...\n",
       "739 2021-12-31 19:00:00        4\n",
       "740 2021-12-31 20:00:00        4\n",
       "741 2021-12-31 21:00:00        4\n",
       "742 2021-12-31 22:00:00        4\n",
       "743 2021-12-31 23:00:00        4\n",
       "\n",
       "[744 rows x 2 columns]"
      ]
     },
     "execution_count": 7,
     "metadata": {},
     "output_type": "execute_result"
    }
   ],
   "source": [
    "df"
   ]
  },
  {
   "cell_type": "code",
   "execution_count": 8,
   "id": "4f028165-f69c-449a-bd4e-172edab7406b",
   "metadata": {},
   "outputs": [],
   "source": [
    "# Random steam counts for different time of the day\n",
    "# Night streams 0 to 3 per hour\n",
    "night['streams'] = rng.integers(0, 3, len(night))\n",
    "# Morning streams 2 to 10 per hour\n",
    "morning['streams'] = rng.integers(2, 10, len(morning))\n",
    "# Afternoon streams 8 to 20 per hour\n",
    "afternoon['streams'] = rng.integers(8, 20, len(afternoon))\n",
    "# Evening streams 20 to 35 per hour\n",
    "evening['streams'] = rng.integers(20, 35, len(evening))"
   ]
  },
  {
   "cell_type": "code",
   "execution_count": 9,
   "id": "3a2e078c-7447-4d3a-89ac-8c2891ffed69",
   "metadata": {},
   "outputs": [
    {
     "data": {
      "text/html": [
       "<div>\n",
       "<style scoped>\n",
       "    .dataframe tbody tr th:only-of-type {\n",
       "        vertical-align: middle;\n",
       "    }\n",
       "\n",
       "    .dataframe tbody tr th {\n",
       "        vertical-align: top;\n",
       "    }\n",
       "\n",
       "    .dataframe thead th {\n",
       "        text-align: right;\n",
       "    }\n",
       "</style>\n",
       "<table border=\"1\" class=\"dataframe\">\n",
       "  <thead>\n",
       "    <tr style=\"text-align: right;\">\n",
       "      <th></th>\n",
       "      <th>H</th>\n",
       "      <th>periods</th>\n",
       "      <th>streams</th>\n",
       "    </tr>\n",
       "  </thead>\n",
       "  <tbody>\n",
       "    <tr>\n",
       "      <th>2021-12-01 00:00:00</th>\n",
       "      <td>0</td>\n",
       "      <td>evening</td>\n",
       "      <td>29</td>\n",
       "    </tr>\n",
       "    <tr>\n",
       "      <th>2021-12-01 01:00:00</th>\n",
       "      <td>1</td>\n",
       "      <td>evening</td>\n",
       "      <td>24</td>\n",
       "    </tr>\n",
       "    <tr>\n",
       "      <th>2021-12-01 02:00:00</th>\n",
       "      <td>2</td>\n",
       "      <td>evening</td>\n",
       "      <td>29</td>\n",
       "    </tr>\n",
       "    <tr>\n",
       "      <th>2021-12-01 18:00:00</th>\n",
       "      <td>18</td>\n",
       "      <td>evening</td>\n",
       "      <td>26</td>\n",
       "    </tr>\n",
       "    <tr>\n",
       "      <th>2021-12-01 19:00:00</th>\n",
       "      <td>19</td>\n",
       "      <td>evening</td>\n",
       "      <td>32</td>\n",
       "    </tr>\n",
       "    <tr>\n",
       "      <th>...</th>\n",
       "      <td>...</td>\n",
       "      <td>...</td>\n",
       "      <td>...</td>\n",
       "    </tr>\n",
       "    <tr>\n",
       "      <th>2021-12-31 19:00:00</th>\n",
       "      <td>739</td>\n",
       "      <td>evening</td>\n",
       "      <td>24</td>\n",
       "    </tr>\n",
       "    <tr>\n",
       "      <th>2021-12-31 20:00:00</th>\n",
       "      <td>740</td>\n",
       "      <td>evening</td>\n",
       "      <td>34</td>\n",
       "    </tr>\n",
       "    <tr>\n",
       "      <th>2021-12-31 21:00:00</th>\n",
       "      <td>741</td>\n",
       "      <td>evening</td>\n",
       "      <td>26</td>\n",
       "    </tr>\n",
       "    <tr>\n",
       "      <th>2021-12-31 22:00:00</th>\n",
       "      <td>742</td>\n",
       "      <td>evening</td>\n",
       "      <td>28</td>\n",
       "    </tr>\n",
       "    <tr>\n",
       "      <th>2021-12-31 23:00:00</th>\n",
       "      <td>743</td>\n",
       "      <td>evening</td>\n",
       "      <td>34</td>\n",
       "    </tr>\n",
       "  </tbody>\n",
       "</table>\n",
       "<p>279 rows × 3 columns</p>\n",
       "</div>"
      ],
      "text/plain": [
       "                       H  periods  streams\n",
       "2021-12-01 00:00:00    0  evening       29\n",
       "2021-12-01 01:00:00    1  evening       24\n",
       "2021-12-01 02:00:00    2  evening       29\n",
       "2021-12-01 18:00:00   18  evening       26\n",
       "2021-12-01 19:00:00   19  evening       32\n",
       "...                  ...      ...      ...\n",
       "2021-12-31 19:00:00  739  evening       24\n",
       "2021-12-31 20:00:00  740  evening       34\n",
       "2021-12-31 21:00:00  741  evening       26\n",
       "2021-12-31 22:00:00  742  evening       28\n",
       "2021-12-31 23:00:00  743  evening       34\n",
       "\n",
       "[279 rows x 3 columns]"
      ]
     },
     "execution_count": 9,
     "metadata": {},
     "output_type": "execute_result"
    }
   ],
   "source": [
    "evening"
   ]
  },
  {
   "cell_type": "code",
   "execution_count": 10,
   "id": "919a15ad-609d-4942-afc4-d794bcdafe7d",
   "metadata": {},
   "outputs": [],
   "source": [
    "# Joining data\n",
    "# Setting index to H for all\n",
    "night.set_index('H', inplace=True)\n",
    "morning.set_index('H', inplace=True)\n",
    "afternoon.set_index('H', inplace=True)\n",
    "evening.set_index('H', inplace=True)"
   ]
  },
  {
   "cell_type": "code",
   "execution_count": 11,
   "id": "32d08528-74d1-406b-891f-e730ebd22bc2",
   "metadata": {},
   "outputs": [
    {
     "data": {
      "text/html": [
       "<div>\n",
       "<style scoped>\n",
       "    .dataframe tbody tr th:only-of-type {\n",
       "        vertical-align: middle;\n",
       "    }\n",
       "\n",
       "    .dataframe tbody tr th {\n",
       "        vertical-align: top;\n",
       "    }\n",
       "\n",
       "    .dataframe thead th {\n",
       "        text-align: right;\n",
       "    }\n",
       "</style>\n",
       "<table border=\"1\" class=\"dataframe\">\n",
       "  <thead>\n",
       "    <tr style=\"text-align: right;\">\n",
       "      <th></th>\n",
       "      <th>periods</th>\n",
       "      <th>streams</th>\n",
       "    </tr>\n",
       "    <tr>\n",
       "      <th>H</th>\n",
       "      <th></th>\n",
       "      <th></th>\n",
       "    </tr>\n",
       "  </thead>\n",
       "  <tbody>\n",
       "    <tr>\n",
       "      <th>3</th>\n",
       "      <td>night</td>\n",
       "      <td>0</td>\n",
       "    </tr>\n",
       "    <tr>\n",
       "      <th>4</th>\n",
       "      <td>night</td>\n",
       "      <td>1</td>\n",
       "    </tr>\n",
       "    <tr>\n",
       "      <th>5</th>\n",
       "      <td>night</td>\n",
       "      <td>2</td>\n",
       "    </tr>\n",
       "    <tr>\n",
       "      <th>6</th>\n",
       "      <td>night</td>\n",
       "      <td>2</td>\n",
       "    </tr>\n",
       "    <tr>\n",
       "      <th>27</th>\n",
       "      <td>night</td>\n",
       "      <td>1</td>\n",
       "    </tr>\n",
       "    <tr>\n",
       "      <th>...</th>\n",
       "      <td>...</td>\n",
       "      <td>...</td>\n",
       "    </tr>\n",
       "    <tr>\n",
       "      <th>739</th>\n",
       "      <td>evening</td>\n",
       "      <td>24</td>\n",
       "    </tr>\n",
       "    <tr>\n",
       "      <th>740</th>\n",
       "      <td>evening</td>\n",
       "      <td>34</td>\n",
       "    </tr>\n",
       "    <tr>\n",
       "      <th>741</th>\n",
       "      <td>evening</td>\n",
       "      <td>26</td>\n",
       "    </tr>\n",
       "    <tr>\n",
       "      <th>742</th>\n",
       "      <td>evening</td>\n",
       "      <td>28</td>\n",
       "    </tr>\n",
       "    <tr>\n",
       "      <th>743</th>\n",
       "      <td>evening</td>\n",
       "      <td>34</td>\n",
       "    </tr>\n",
       "  </tbody>\n",
       "</table>\n",
       "<p>744 rows × 2 columns</p>\n",
       "</div>"
      ],
      "text/plain": [
       "     periods  streams\n",
       "H                    \n",
       "3      night        0\n",
       "4      night        1\n",
       "5      night        2\n",
       "6      night        2\n",
       "27     night        1\n",
       "..       ...      ...\n",
       "739  evening       24\n",
       "740  evening       34\n",
       "741  evening       26\n",
       "742  evening       28\n",
       "743  evening       34\n",
       "\n",
       "[744 rows x 2 columns]"
      ]
     },
     "execution_count": 11,
     "metadata": {},
     "output_type": "execute_result"
    }
   ],
   "source": [
    "# Appending time of the day dataframes to be joined together\n",
    "night = night.append(morning)\n",
    "night = night.append(afternoon)\n",
    "night = night.append(evening)\n",
    "night"
   ]
  },
  {
   "cell_type": "code",
   "execution_count": 12,
   "id": "008abdb0-a399-47d9-a5d2-277a74cd6d5c",
   "metadata": {},
   "outputs": [],
   "source": [
    "# Joining values all together on preset index H\n",
    "df = df.join(night, how='outer')"
   ]
  },
  {
   "cell_type": "code",
   "execution_count": 13,
   "id": "a447684a-2249-46d4-8bec-d1ef5b88a144",
   "metadata": {
    "tags": []
   },
   "outputs": [],
   "source": [
    "# Increasing weekend views to additional 30% on Fri, 40% Sat, Sun\n",
    "# Also, rounding to int \n",
    "df['streams'] = np.rint(np.where(df['weekday'] == 4, df['streams'] * 1.3, df['streams']))\n",
    "df['streams'] = np.rint(np.where((df['weekday'] == 5) | (df['weekday'] == 6), df['streams'] * 1.4, df['streams']))"
   ]
  },
  {
   "cell_type": "code",
   "execution_count": 14,
   "id": "fdb8d8bf-a110-4c48-81b3-692a932a5bb1",
   "metadata": {},
   "outputs": [
    {
     "data": {
      "text/html": [
       "<div>\n",
       "<style scoped>\n",
       "    .dataframe tbody tr th:only-of-type {\n",
       "        vertical-align: middle;\n",
       "    }\n",
       "\n",
       "    .dataframe tbody tr th {\n",
       "        vertical-align: top;\n",
       "    }\n",
       "\n",
       "    .dataframe thead th {\n",
       "        text-align: right;\n",
       "    }\n",
       "</style>\n",
       "<table border=\"1\" class=\"dataframe\">\n",
       "  <thead>\n",
       "    <tr style=\"text-align: right;\">\n",
       "      <th></th>\n",
       "      <th>udates</th>\n",
       "      <th>weekday</th>\n",
       "      <th>periods</th>\n",
       "      <th>streams</th>\n",
       "    </tr>\n",
       "    <tr>\n",
       "      <th>H</th>\n",
       "      <th></th>\n",
       "      <th></th>\n",
       "      <th></th>\n",
       "      <th></th>\n",
       "    </tr>\n",
       "  </thead>\n",
       "  <tbody>\n",
       "    <tr>\n",
       "      <th>0</th>\n",
       "      <td>2021-12-01 00:00:00</td>\n",
       "      <td>2</td>\n",
       "      <td>evening</td>\n",
       "      <td>29.0</td>\n",
       "    </tr>\n",
       "    <tr>\n",
       "      <th>1</th>\n",
       "      <td>2021-12-01 01:00:00</td>\n",
       "      <td>2</td>\n",
       "      <td>evening</td>\n",
       "      <td>24.0</td>\n",
       "    </tr>\n",
       "    <tr>\n",
       "      <th>2</th>\n",
       "      <td>2021-12-01 02:00:00</td>\n",
       "      <td>2</td>\n",
       "      <td>evening</td>\n",
       "      <td>29.0</td>\n",
       "    </tr>\n",
       "    <tr>\n",
       "      <th>3</th>\n",
       "      <td>2021-12-01 03:00:00</td>\n",
       "      <td>2</td>\n",
       "      <td>night</td>\n",
       "      <td>0.0</td>\n",
       "    </tr>\n",
       "    <tr>\n",
       "      <th>4</th>\n",
       "      <td>2021-12-01 04:00:00</td>\n",
       "      <td>2</td>\n",
       "      <td>night</td>\n",
       "      <td>1.0</td>\n",
       "    </tr>\n",
       "    <tr>\n",
       "      <th>...</th>\n",
       "      <td>...</td>\n",
       "      <td>...</td>\n",
       "      <td>...</td>\n",
       "      <td>...</td>\n",
       "    </tr>\n",
       "    <tr>\n",
       "      <th>739</th>\n",
       "      <td>2021-12-31 19:00:00</td>\n",
       "      <td>4</td>\n",
       "      <td>evening</td>\n",
       "      <td>31.0</td>\n",
       "    </tr>\n",
       "    <tr>\n",
       "      <th>740</th>\n",
       "      <td>2021-12-31 20:00:00</td>\n",
       "      <td>4</td>\n",
       "      <td>evening</td>\n",
       "      <td>44.0</td>\n",
       "    </tr>\n",
       "    <tr>\n",
       "      <th>741</th>\n",
       "      <td>2021-12-31 21:00:00</td>\n",
       "      <td>4</td>\n",
       "      <td>evening</td>\n",
       "      <td>34.0</td>\n",
       "    </tr>\n",
       "    <tr>\n",
       "      <th>742</th>\n",
       "      <td>2021-12-31 22:00:00</td>\n",
       "      <td>4</td>\n",
       "      <td>evening</td>\n",
       "      <td>36.0</td>\n",
       "    </tr>\n",
       "    <tr>\n",
       "      <th>743</th>\n",
       "      <td>2021-12-31 23:00:00</td>\n",
       "      <td>4</td>\n",
       "      <td>evening</td>\n",
       "      <td>44.0</td>\n",
       "    </tr>\n",
       "  </tbody>\n",
       "</table>\n",
       "<p>744 rows × 4 columns</p>\n",
       "</div>"
      ],
      "text/plain": [
       "                 udates  weekday  periods  streams\n",
       "H                                                 \n",
       "0   2021-12-01 00:00:00        2  evening     29.0\n",
       "1   2021-12-01 01:00:00        2  evening     24.0\n",
       "2   2021-12-01 02:00:00        2  evening     29.0\n",
       "3   2021-12-01 03:00:00        2    night      0.0\n",
       "4   2021-12-01 04:00:00        2    night      1.0\n",
       "..                  ...      ...      ...      ...\n",
       "739 2021-12-31 19:00:00        4  evening     31.0\n",
       "740 2021-12-31 20:00:00        4  evening     44.0\n",
       "741 2021-12-31 21:00:00        4  evening     34.0\n",
       "742 2021-12-31 22:00:00        4  evening     36.0\n",
       "743 2021-12-31 23:00:00        4  evening     44.0\n",
       "\n",
       "[744 rows x 4 columns]"
      ]
     },
     "execution_count": 14,
     "metadata": {},
     "output_type": "execute_result"
    }
   ],
   "source": [
    "df"
   ]
  },
  {
   "cell_type": "markdown",
   "id": "3c695362-e80a-4f2e-b15b-39ae640100b6",
   "metadata": {},
   "source": [
    "# Movie/TV Series Category - Randon selection from available list\n",
    "***\n",
    "Movie - TV Series category will be randomly assigned to views data from list variable containing available categories on the platform. "
   ]
  },
  {
   "cell_type": "code",
   "execution_count": 15,
   "id": "21a19515-4a0c-4632-902a-22c069940285",
   "metadata": {},
   "outputs": [],
   "source": [
    "# Setting available movie/TV series categories\n",
    "categories = ['Action', 'Comedy', 'Drama', 'Fantasy', 'Horror', 'Mystery', 'Romance', 'Thriller', 'Western']\n",
    "\n",
    "#df['categories'] = rng.choice(categories,size=(len(df)))\n"
   ]
  },
  {
   "cell_type": "markdown",
   "id": "9bfb964f-2c6b-424a-aa9f-a576dc5cd263",
   "metadata": {},
   "source": [
    "# User ID"
   ]
  },
  {
   "cell_type": "markdown",
   "id": "84745097-072d-4d79-9d85-ac319196c466",
   "metadata": {},
   "source": [
    "User ID will be generated chosing two letters followed by three random numbers, 50 active users from Ireland will have User IDs assigned."
   ]
  },
  {
   "cell_type": "code",
   "execution_count": 16,
   "id": "b7d362be-fa1f-4201-bb79-df005772be6d",
   "metadata": {},
   "outputs": [
    {
     "name": "stdout",
     "output_type": "stream",
     "text": [
      "50\n"
     ]
    }
   ],
   "source": [
    "# Importing Python modules String and Random\n",
    "import string\n",
    "import random\n",
    "\n",
    "uid=[]\n",
    "letters=''.join(random.choices(string.ascii_uppercase,k=2))\n",
    "digits=''.join(random.choices(string.digits,k=3))\n",
    "i=0\n",
    "for i in range(50):\n",
    "    uid.append(''.join(random.choices(string.ascii_uppercase,k=2)) + ''.join(random.choices(string.digits,k=3)))\n",
    "    i +=1          \n",
    "print(i)           \n",
    "\n",
    "\n",
    "#df['categories'] = rng.choice(categories,size=(len(df)))"
   ]
  },
  {
   "cell_type": "markdown",
   "id": "4065068f-f9b2-4d3d-88ef-4fab9cf73002",
   "metadata": {},
   "source": [
    "# User gender"
   ]
  },
  {
   "cell_type": "markdown",
   "id": "3ee20463-062d-4219-9bce-3b42bb37f192",
   "metadata": {},
   "source": [
    "Gender will be populated for User IDs that will determine name surname "
   ]
  },
  {
   "cell_type": "code",
   "execution_count": null,
   "id": "68db1a26-834b-414c-8d82-aa185c00eb4b",
   "metadata": {},
   "outputs": [],
   "source": []
  },
  {
   "cell_type": "markdown",
   "id": "761693eb-0462-4653-9f14-67cf57477a4e",
   "metadata": {},
   "source": [
    "# User Name and Surname? - Depends on gender to be chosen from a list\n",
    "***\n",
    "User name will be selected from list of popular Irish names depending on gender variable assigned previously.\n",
    "Names will be retrieved from [Irishcentral](https://www.irishcentral.com/roots/100-irish-language-first-names-meanings) website by using regular expressions to extract it, if not sucessful manual list in CSV/Excel format will be prepared to be read for random selection."
   ]
  },
  {
   "cell_type": "markdown",
   "id": "a0505e13-9581-4c25-8779-725b90516f4c",
   "metadata": {},
   "source": [
    "https://www.irishcentral.com/roots/100-irish-language-first-names-meanings"
   ]
  },
  {
   "cell_type": "code",
   "execution_count": null,
   "id": "81aa1349-1fb0-4af1-bc35-ff648a37b4fe",
   "metadata": {},
   "outputs": [],
   "source": []
  },
  {
   "cell_type": "markdown",
   "id": "a0356436-8568-460d-a531-93bff2ce0ee6",
   "metadata": {},
   "source": [
    "# Joining all the data"
   ]
  },
  {
   "cell_type": "markdown",
   "id": "d803b6ae-8431-44ed-aac9-a59812990845",
   "metadata": {},
   "source": [
    "Data will be joined together indexing one of data variables "
   ]
  },
  {
   "cell_type": "code",
   "execution_count": null,
   "id": "39efb701-746d-4e8f-99ac-7a78cc1c5549",
   "metadata": {},
   "outputs": [],
   "source": []
  },
  {
   "cell_type": "code",
   "execution_count": null,
   "id": "561d389e-9483-4283-9f48-0b340413c66a",
   "metadata": {},
   "outputs": [],
   "source": []
  },
  {
   "cell_type": "markdown",
   "id": "59794f11-19b3-4901-9125-666de8299f99",
   "metadata": {},
   "source": [
    "# Save as CSV/xlsx"
   ]
  },
  {
   "cell_type": "code",
   "execution_count": 17,
   "id": "57d968b9-6b91-4f21-8a5e-757d9102e288",
   "metadata": {},
   "outputs": [],
   "source": [
    "# df.to_excel('data/check.xlsx')"
   ]
  },
  {
   "cell_type": "code",
   "execution_count": null,
   "id": "1aa551c4-58af-4185-807d-d55adbe8e709",
   "metadata": {},
   "outputs": [],
   "source": []
  },
  {
   "cell_type": "markdown",
   "id": "bb0e87e8-686b-441e-a595-ef2bf702d4b3",
   "metadata": {},
   "source": [
    "# Data overview and analysis/plots"
   ]
  },
  {
   "cell_type": "code",
   "execution_count": 18,
   "id": "87bd68df-895e-4e3b-9cc1-d22043de8ff9",
   "metadata": {},
   "outputs": [
    {
     "ename": "SyntaxError",
     "evalue": "invalid syntax (<ipython-input-18-fb5d223276d5>, line 1)",
     "output_type": "error",
     "traceback": [
      "\u001b[1;36m  File \u001b[1;32m\"<ipython-input-18-fb5d223276d5>\"\u001b[1;36m, line \u001b[1;32m1\u001b[0m\n\u001b[1;33m    Descriptive statistics\u001b[0m\n\u001b[1;37m                ^\u001b[0m\n\u001b[1;31mSyntaxError\u001b[0m\u001b[1;31m:\u001b[0m invalid syntax\n"
     ]
    }
   ],
   "source": [
    "Descriptive statistics"
   ]
  },
  {
   "cell_type": "code",
   "execution_count": null,
   "id": "b13d715f-221c-4bda-8d9d-6c62b7b62db2",
   "metadata": {},
   "outputs": [],
   "source": [
    "views by time of the week kde line plot or time series line plot"
   ]
  },
  {
   "cell_type": "code",
   "execution_count": null,
   "id": "4d855ba5-ce53-4c6c-8d3a-dec7fb2acb97",
   "metadata": {},
   "outputs": [],
   "source": [
    "pie plot for most streamed movie categories by gender "
   ]
  },
  {
   "cell_type": "code",
   "execution_count": null,
   "id": "a237f79d-9506-41d6-8ba1-460bbd53727d",
   "metadata": {},
   "outputs": [],
   "source": [
    "average week day views vs average weekend views?"
   ]
  },
  {
   "cell_type": "code",
   "execution_count": null,
   "id": "ece1cd46-3970-48a4-a348-a3eade8f1002",
   "metadata": {},
   "outputs": [],
   "source": [
    "bar plot for one weeks streams"
   ]
  },
  {
   "cell_type": "markdown",
   "id": "7e5e19c3-588c-459c-9782-622ab5c989cc",
   "metadata": {},
   "source": []
  },
  {
   "cell_type": "code",
   "execution_count": null,
   "id": "3a86e995-5a0c-4362-a2a5-ace0f5d9d780",
   "metadata": {},
   "outputs": [],
   "source": []
  },
  {
   "cell_type": "markdown",
   "id": "8a1ca4c2-709e-42c3-80cf-ed5af0196b1f",
   "metadata": {},
   "source": [
    "# References"
   ]
  },
  {
   "cell_type": "markdown",
   "id": "e5366d2d-76f7-45a7-8b88-c3df4cc64cdb",
   "metadata": {},
   "source": [
    "https://stackoverflow.com/questions/41598916/resize-the-image-in-jupyter-notebook-using-markdown"
   ]
  },
  {
   "cell_type": "markdown",
   "id": "79a1b6be-659e-4cea-bbd1-6453b7552c86",
   "metadata": {},
   "source": [
    "https://stackoverflow.com/questions/41598916/resize-the-image-in-jupyter-notebook-using-markdown"
   ]
  },
  {
   "cell_type": "markdown",
   "id": "e678474e-1af7-4d83-9ae1-d37a2ae21d4a",
   "metadata": {},
   "source": [
    "https://stackoverflow.com/questions/56310849/generate-random-timeseries-data-with-dates"
   ]
  },
  {
   "cell_type": "markdown",
   "id": "870f4587-3c9b-478d-a80e-e71ea0afd784",
   "metadata": {},
   "source": [
    "https://pandas.pydata.org/pandas-docs/stable/user_guide/timeseries.html"
   ]
  },
  {
   "cell_type": "markdown",
   "id": "d194097c-b9c7-4fe2-a2f9-7df24c2461cb",
   "metadata": {},
   "source": [
    "https://pandas.pydata.org/pandas-docs/stable/user_guide/timeseries.html"
   ]
  },
  {
   "cell_type": "markdown",
   "id": "13ffbcbe-fc0f-4fad-9025-7b6a2e77b610",
   "metadata": {},
   "source": [
    "https://numpy.org/doc/stable/reference/generated/numpy.rint.html\n"
   ]
  },
  {
   "cell_type": "markdown",
   "id": "ad8a88a8-47cf-4fbe-aa45-0ac14d91f9f1",
   "metadata": {},
   "source": [
    "https://stackoverflow.com/questions/28009370/get-weekday-day-of-week-for-datetime-column-of-dataframe"
   ]
  },
  {
   "cell_type": "markdown",
   "id": "4132a8c8-ab6e-4e0c-9727-03333eb41c8e",
   "metadata": {},
   "source": [
    "https://pandas.pydata.org/pandas-docs/version/0.17.1/merging.html"
   ]
  },
  {
   "cell_type": "markdown",
   "id": "d554ee70-d7cd-42db-9198-47f41a2708c8",
   "metadata": {},
   "source": [
    "https://www.stackvidhya.com/pandas-iterate-over-rows/"
   ]
  },
  {
   "cell_type": "markdown",
   "id": "5f67fd79-e20d-47ac-938d-cfd6ef8b6409",
   "metadata": {},
   "source": [
    "https://datagy.io/pandas-conditional-column/"
   ]
  },
  {
   "cell_type": "markdown",
   "id": "b12c52a1-bdfe-42e5-b9de-d6c6aa076d25",
   "metadata": {},
   "source": [
    "https://pandas.pydata.org/docs/reference/api/pandas.DataFrame.itertuples.html"
   ]
  },
  {
   "cell_type": "markdown",
   "id": "1bf72e16-753f-463a-a1ff-8e1c8d6e6993",
   "metadata": {},
   "source": [
    "https://www.geeksforgeeks.org/how-to-generate-a-random-letter-in-python/"
   ]
  },
  {
   "cell_type": "markdown",
   "id": "ebb7d019-1f98-4373-b24a-f64b9caaa933",
   "metadata": {},
   "source": [
    "https://stackoverflow.com/questions/2823316/generate-a-random-letter-in-python"
   ]
  },
  {
   "cell_type": "code",
   "execution_count": null,
   "id": "19703cf7-c323-445b-a80a-88390d744a32",
   "metadata": {},
   "outputs": [],
   "source": []
  }
 ],
 "metadata": {
  "kernelspec": {
   "display_name": "Python 3",
   "language": "python",
   "name": "python3"
  },
  "language_info": {
   "codemirror_mode": {
    "name": "ipython",
    "version": 3
   },
   "file_extension": ".py",
   "mimetype": "text/x-python",
   "name": "python",
   "nbconvert_exporter": "python",
   "pygments_lexer": "ipython3",
   "version": "3.8.8"
  }
 },
 "nbformat": 4,
 "nbformat_minor": 5
}
