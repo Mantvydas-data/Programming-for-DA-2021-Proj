{
 "cells": [
  {
   "cell_type": "code",
   "execution_count": null,
   "id": "79977ae2-e39b-4221-81cf-b7c1c4cac914",
   "metadata": {},
   "outputs": [],
   "source": [
    "# Picture"
   ]
  },
  {
   "cell_type": "code",
   "execution_count": null,
   "id": "e16f05b0-337f-43fa-9916-4e0f61908be0",
   "metadata": {},
   "outputs": [],
   "source": [
    "# Intro"
   ]
  },
  {
   "cell_type": "code",
   "execution_count": 2,
   "id": "2ce748c3-242b-428a-9ea1-1f7e12d28353",
   "metadata": {},
   "outputs": [],
   "source": [
    "# Project description plan"
   ]
  },
  {
   "cell_type": "code",
   "execution_count": null,
   "id": "d2a72cdd-ad6a-4dce-bc0d-d7096d6a638f",
   "metadata": {},
   "outputs": [],
   "source": [
    "# Generating data"
   ]
  },
  {
   "cell_type": "code",
   "execution_count": null,
   "id": "a4e238ec-24ac-4d70-9e42-3a36a9fe66c1",
   "metadata": {},
   "outputs": [],
   "source": []
  },
  {
   "cell_type": "code",
   "execution_count": null,
   "id": "c93e080e-5119-4054-a91e-dcba0ae2d6e4",
   "metadata": {},
   "outputs": [],
   "source": []
  },
  {
   "cell_type": "code",
   "execution_count": null,
   "id": "dca46334-9123-453e-a75f-9f11d20341a1",
   "metadata": {},
   "outputs": [],
   "source": []
  },
  {
   "cell_type": "code",
   "execution_count": null,
   "id": "e80ff13b-37ba-4ee7-85f9-790ac7196805",
   "metadata": {},
   "outputs": [],
   "source": [
    "# Save as CSV"
   ]
  },
  {
   "cell_type": "code",
   "execution_count": null,
   "id": "57d968b9-6b91-4f21-8a5e-757d9102e288",
   "metadata": {},
   "outputs": [],
   "source": []
  },
  {
   "cell_type": "code",
   "execution_count": null,
   "id": "1aa551c4-58af-4185-807d-d55adbe8e709",
   "metadata": {},
   "outputs": [],
   "source": []
  },
  {
   "cell_type": "code",
   "execution_count": null,
   "id": "7b210c3e-3930-417b-a214-87c6bddd355e",
   "metadata": {},
   "outputs": [],
   "source": []
  },
  {
   "cell_type": "code",
   "execution_count": null,
   "id": "6963ad76-77a5-4c40-bcb4-3f0c8e6c0bc0",
   "metadata": {},
   "outputs": [],
   "source": [
    "# Data overview and analysis"
   ]
  },
  {
   "cell_type": "code",
   "execution_count": null,
   "id": "87bd68df-895e-4e3b-9cc1-d22043de8ff9",
   "metadata": {},
   "outputs": [],
   "source": []
  },
  {
   "cell_type": "code",
   "execution_count": null,
   "id": "0b364c75-0ab0-444a-8666-7d40a8aa67cd",
   "metadata": {},
   "outputs": [],
   "source": [
    "# Plots"
   ]
  },
  {
   "cell_type": "code",
   "execution_count": null,
   "id": "3a86e995-5a0c-4362-a2a5-ace0f5d9d780",
   "metadata": {},
   "outputs": [],
   "source": []
  },
  {
   "cell_type": "code",
   "execution_count": 3,
   "id": "0efffca3-5e53-48f3-8cd2-b4a7ccfa9957",
   "metadata": {},
   "outputs": [],
   "source": [
    "#References"
   ]
  },
  {
   "cell_type": "code",
   "execution_count": null,
   "id": "fb1425d2-77af-46f3-af16-ada1fadd8018",
   "metadata": {},
   "outputs": [],
   "source": []
  }
 ],
 "metadata": {
  "kernelspec": {
   "display_name": "Python 3",
   "language": "python",
   "name": "python3"
  },
  "language_info": {
   "codemirror_mode": {
    "name": "ipython",
    "version": 3
   },
   "file_extension": ".py",
   "mimetype": "text/x-python",
   "name": "python",
   "nbconvert_exporter": "python",
   "pygments_lexer": "ipython3",
   "version": "3.8.8"
  }
 },
 "nbformat": 4,
 "nbformat_minor": 5
}
