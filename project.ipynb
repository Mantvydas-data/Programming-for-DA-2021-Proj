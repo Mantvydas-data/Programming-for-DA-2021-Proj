{
 "cells": [
  {
   "cell_type": "markdown",
   "id": "9caef092-e8a6-40f5-b6f5-36a3cada52f5",
   "metadata": {},
   "source": [
    "![film](https://raw.githubusercontent.com/Mantvydas-data/Programming-for-DA-2021-Proj/main/data/denise-jans-tV80374iytg-unsplash.PNG)\n",
    "\n",
    "Photo by <a href=\"https://unsplash.com/@dmjdenise?utm_source=unsplash&utm_medium=referral&utm_content=creditCopyText\">Denise Jans</a> on <a href=\"https://unsplash.com/s/photos/film?utm_source=unsplash&utm_medium=referral&utm_content=creditCopyText\">Unsplash</a>\n"
   ]
  },
  {
   "cell_type": "markdown",
   "id": "0efd8881-fdbc-4751-942e-b0825930ea7b",
   "metadata": {},
   "source": [
    "# Intro\n",
    "***\n",
    "The aim of this project is to simulate dataset that represents real life measurable phenomenon with simulated dataset having at least one hundred data points with at least four different variables. Sinthesised data should have close to real life properties and relationship amongst variables."
   ]
  },
  {
   "cell_type": "markdown",
   "id": "f27f24d1-0929-44f1-82c7-ba5feb53784e",
   "metadata": {},
   "source": [
    "# Project description plan\n",
    "***\n",
    "During recent wordwide lockdown it became increasingly popular to have a subscription to one of many movie/TV streaming services. These platforms experienced unprecedented growth month on month basis becoming a daily habit for most. This project will look into simulating a dataset of fictional movie streaming platform 'MFLIX' usage log with dates, movie stream count per hour, movie category, user ID, user gender and user name. Various methods learned during this semester will be applied in this project to create a dataset with dependent variables."
   ]
  },
  {
   "cell_type": "markdown",
   "id": "fe223782-cfbe-4ec6-943e-f3a3cde85940",
   "metadata": {},
   "source": [
    "# Generating data"
   ]
  },
  {
   "cell_type": "markdown",
   "id": "35222f12-5d48-44f6-b63f-ae6a8d948ce0",
   "metadata": {},
   "source": [
    "Packages required for this project are loaded below, Numpy random package has a set seed for reproduceable random data for this project."
   ]
  },
  {
   "cell_type": "code",
   "execution_count": 1,
   "id": "a4e238ec-24ac-4d70-9e42-3a36a9fe66c1",
   "metadata": {},
   "outputs": [],
   "source": [
    "# Importing required packages by their orthodox abbreviations\n",
    "import matplotlib.pyplot as plt # Plotting\n",
    "import numpy as np # Mathematical arrays\n",
    "import pandas as pd # Work with data frames\n",
    "import re # Regular expressions.\n",
    "import seaborn as sns # Plotting\n",
    "\n",
    "# Importing Python modules String and Random\n",
    "import string\n",
    "import random\n",
    "\n",
    "# Importing Numpy random generator and assigning it to rng variable\n",
    "from numpy.random import default_rng\n",
    "\n",
    "# Seed value 124 is set for reproduceable random data\n",
    "rng = default_rng(seed=124)"
   ]
  },
  {
   "cell_type": "markdown",
   "id": "8e3da8a2-8a60-4ad3-a253-8fadb1c6a9b6",
   "metadata": {},
   "source": [
    "# Dates and times by hour\n",
    "MFLIX dataset requires a rannge of dates by hour for usage statistics simulation. A list od hourly timestamps will be generated to represent one month of usage that is December in 2021."
   ]
  },
  {
   "cell_type": "code",
   "execution_count": 2,
   "id": "dca46334-9123-453e-a75f-9f11d20341a1",
   "metadata": {},
   "outputs": [
    {
     "data": {
      "text/plain": [
       "DatetimeIndex(['2021-12-01 00:00:00', '2021-12-01 01:00:00',\n",
       "               '2021-12-01 02:00:00', '2021-12-01 03:00:00',\n",
       "               '2021-12-01 04:00:00', '2021-12-01 05:00:00',\n",
       "               '2021-12-01 06:00:00', '2021-12-01 07:00:00',\n",
       "               '2021-12-01 08:00:00', '2021-12-01 09:00:00',\n",
       "               ...\n",
       "               '2021-12-31 14:00:00', '2021-12-31 15:00:00',\n",
       "               '2021-12-31 16:00:00', '2021-12-31 17:00:00',\n",
       "               '2021-12-31 18:00:00', '2021-12-31 19:00:00',\n",
       "               '2021-12-31 20:00:00', '2021-12-31 21:00:00',\n",
       "               '2021-12-31 22:00:00', '2021-12-31 23:00:00'],\n",
       "              dtype='datetime64[ns]', length=744, freq='H')"
      ]
     },
     "execution_count": 2,
     "metadata": {},
     "output_type": "execute_result"
    }
   ],
   "source": [
    "# Generating a range of dates by hour\n",
    "# Count of hourly observations for month of December\n",
    "periods = 31*24\n",
    "\n",
    "# Hourly date and time for December\n",
    "dfdate = pd.date_range('2021-12-01', freq='H', periods=periods)\n",
    "\n",
    "dfdate"
   ]
  },
  {
   "cell_type": "markdown",
   "id": "5ea2be8b-0ee5-4c81-8d7b-9055da48464c",
   "metadata": {},
   "source": [
    "# Streaming counts\n",
    "***\n",
    "To have realistic sreaming data views per hour needs to adhere to time of day to simulate peak and off-peak times of the day. Time serries data will be split by time of the day for random streaming data count to be generated having fewer streams during late night and early morning hours, medium usage during the day and peak time from 5 PM to 1AM. Streams will be 30% higher on Fridays, where on Saturday and Sunday they will increase to 40% compared to average work day usage."
   ]
  },
  {
   "cell_type": "code",
   "execution_count": 3,
   "id": "856cf6de-4d76-4f26-a2d8-bc8eaf6a856b",
   "metadata": {},
   "outputs": [
    {
     "data": {
      "text/html": [
       "<div>\n",
       "<style scoped>\n",
       "    .dataframe tbody tr th:only-of-type {\n",
       "        vertical-align: middle;\n",
       "    }\n",
       "\n",
       "    .dataframe tbody tr th {\n",
       "        vertical-align: top;\n",
       "    }\n",
       "\n",
       "    .dataframe thead th {\n",
       "        text-align: right;\n",
       "    }\n",
       "</style>\n",
       "<table border=\"1\" class=\"dataframe\">\n",
       "  <thead>\n",
       "    <tr style=\"text-align: right;\">\n",
       "      <th></th>\n",
       "      <th>H</th>\n",
       "    </tr>\n",
       "  </thead>\n",
       "  <tbody>\n",
       "    <tr>\n",
       "      <th>2021-12-01 03:00:00</th>\n",
       "      <td>3</td>\n",
       "    </tr>\n",
       "    <tr>\n",
       "      <th>2021-12-01 04:00:00</th>\n",
       "      <td>4</td>\n",
       "    </tr>\n",
       "    <tr>\n",
       "      <th>2021-12-01 05:00:00</th>\n",
       "      <td>5</td>\n",
       "    </tr>\n",
       "    <tr>\n",
       "      <th>2021-12-01 06:00:00</th>\n",
       "      <td>6</td>\n",
       "    </tr>\n",
       "    <tr>\n",
       "      <th>2021-12-02 03:00:00</th>\n",
       "      <td>27</td>\n",
       "    </tr>\n",
       "    <tr>\n",
       "      <th>...</th>\n",
       "      <td>...</td>\n",
       "    </tr>\n",
       "    <tr>\n",
       "      <th>2021-12-30 06:00:00</th>\n",
       "      <td>702</td>\n",
       "    </tr>\n",
       "    <tr>\n",
       "      <th>2021-12-31 03:00:00</th>\n",
       "      <td>723</td>\n",
       "    </tr>\n",
       "    <tr>\n",
       "      <th>2021-12-31 04:00:00</th>\n",
       "      <td>724</td>\n",
       "    </tr>\n",
       "    <tr>\n",
       "      <th>2021-12-31 05:00:00</th>\n",
       "      <td>725</td>\n",
       "    </tr>\n",
       "    <tr>\n",
       "      <th>2021-12-31 06:00:00</th>\n",
       "      <td>726</td>\n",
       "    </tr>\n",
       "  </tbody>\n",
       "</table>\n",
       "<p>124 rows × 1 columns</p>\n",
       "</div>"
      ],
      "text/plain": [
       "                       H\n",
       "2021-12-01 03:00:00    3\n",
       "2021-12-01 04:00:00    4\n",
       "2021-12-01 05:00:00    5\n",
       "2021-12-01 06:00:00    6\n",
       "2021-12-02 03:00:00   27\n",
       "...                  ...\n",
       "2021-12-30 06:00:00  702\n",
       "2021-12-31 03:00:00  723\n",
       "2021-12-31 04:00:00  724\n",
       "2021-12-31 05:00:00  725\n",
       "2021-12-31 06:00:00  726\n",
       "\n",
       "[124 rows x 1 columns]"
      ]
     },
     "execution_count": 3,
     "metadata": {},
     "output_type": "execute_result"
    }
   ],
   "source": [
    "# Creating H column to number each hour in the date range \n",
    "df= pd.DataFrame({'H': np.arange(len(dfdate))}, index=dfdate)\n",
    "\n",
    "# Adding column H to df2 dataframe\n",
    "df2 = df['H']\n",
    "\n",
    "# Spliting time series by time of the day\n",
    "night = pd.DataFrame(df.between_time(\"02:01\",\"06:00\"))\n",
    "morning = pd.DataFrame(df.between_time(\"06:01\",\"12:00\"))\n",
    "afternoon = pd.DataFrame(df.between_time(\"12:01\",\"17:00\"))\n",
    "evening = pd.DataFrame(df.between_time(\"17:01\",\"02:00\"))\n",
    "\n",
    "night"
   ]
  },
  {
   "cell_type": "code",
   "execution_count": 4,
   "id": "7086cdbf-f4a7-4bdb-94be-c231db4f9634",
   "metadata": {},
   "outputs": [],
   "source": [
    "# Setting time of day clasification as a hard value fo each period\n",
    "night['periods'] = 'night'\n",
    "morning['periods'] = 'morning'\n",
    "afternoon['periods'] = 'afternoon'\n",
    "evening['periods'] = 'evening'"
   ]
  },
  {
   "cell_type": "code",
   "execution_count": 5,
   "id": "237b31b5-3568-44ad-bea6-476fdabd516e",
   "metadata": {},
   "outputs": [],
   "source": [
    "# Saving date-time as value instead of index\n",
    "df['udates'] = df.index\n",
    "# Populating weekdays for weekend usage to be incremented\n",
    "df['weekday'] = df.index.weekday"
   ]
  },
  {
   "cell_type": "code",
   "execution_count": 6,
   "id": "29873508-2167-426b-a11b-83e668ba537c",
   "metadata": {},
   "outputs": [
    {
     "data": {
      "text/html": [
       "<div>\n",
       "<style scoped>\n",
       "    .dataframe tbody tr th:only-of-type {\n",
       "        vertical-align: middle;\n",
       "    }\n",
       "\n",
       "    .dataframe tbody tr th {\n",
       "        vertical-align: top;\n",
       "    }\n",
       "\n",
       "    .dataframe thead th {\n",
       "        text-align: right;\n",
       "    }\n",
       "</style>\n",
       "<table border=\"1\" class=\"dataframe\">\n",
       "  <thead>\n",
       "    <tr style=\"text-align: right;\">\n",
       "      <th></th>\n",
       "      <th>udates</th>\n",
       "      <th>weekday</th>\n",
       "    </tr>\n",
       "    <tr>\n",
       "      <th>H</th>\n",
       "      <th></th>\n",
       "      <th></th>\n",
       "    </tr>\n",
       "  </thead>\n",
       "  <tbody>\n",
       "    <tr>\n",
       "      <th>0</th>\n",
       "      <td>2021-12-01 00:00:00</td>\n",
       "      <td>2</td>\n",
       "    </tr>\n",
       "    <tr>\n",
       "      <th>1</th>\n",
       "      <td>2021-12-01 01:00:00</td>\n",
       "      <td>2</td>\n",
       "    </tr>\n",
       "    <tr>\n",
       "      <th>2</th>\n",
       "      <td>2021-12-01 02:00:00</td>\n",
       "      <td>2</td>\n",
       "    </tr>\n",
       "    <tr>\n",
       "      <th>3</th>\n",
       "      <td>2021-12-01 03:00:00</td>\n",
       "      <td>2</td>\n",
       "    </tr>\n",
       "    <tr>\n",
       "      <th>4</th>\n",
       "      <td>2021-12-01 04:00:00</td>\n",
       "      <td>2</td>\n",
       "    </tr>\n",
       "    <tr>\n",
       "      <th>...</th>\n",
       "      <td>...</td>\n",
       "      <td>...</td>\n",
       "    </tr>\n",
       "    <tr>\n",
       "      <th>739</th>\n",
       "      <td>2021-12-31 19:00:00</td>\n",
       "      <td>4</td>\n",
       "    </tr>\n",
       "    <tr>\n",
       "      <th>740</th>\n",
       "      <td>2021-12-31 20:00:00</td>\n",
       "      <td>4</td>\n",
       "    </tr>\n",
       "    <tr>\n",
       "      <th>741</th>\n",
       "      <td>2021-12-31 21:00:00</td>\n",
       "      <td>4</td>\n",
       "    </tr>\n",
       "    <tr>\n",
       "      <th>742</th>\n",
       "      <td>2021-12-31 22:00:00</td>\n",
       "      <td>4</td>\n",
       "    </tr>\n",
       "    <tr>\n",
       "      <th>743</th>\n",
       "      <td>2021-12-31 23:00:00</td>\n",
       "      <td>4</td>\n",
       "    </tr>\n",
       "  </tbody>\n",
       "</table>\n",
       "<p>744 rows × 2 columns</p>\n",
       "</div>"
      ],
      "text/plain": [
       "                 udates  weekday\n",
       "H                               \n",
       "0   2021-12-01 00:00:00        2\n",
       "1   2021-12-01 01:00:00        2\n",
       "2   2021-12-01 02:00:00        2\n",
       "3   2021-12-01 03:00:00        2\n",
       "4   2021-12-01 04:00:00        2\n",
       "..                  ...      ...\n",
       "739 2021-12-31 19:00:00        4\n",
       "740 2021-12-31 20:00:00        4\n",
       "741 2021-12-31 21:00:00        4\n",
       "742 2021-12-31 22:00:00        4\n",
       "743 2021-12-31 23:00:00        4\n",
       "\n",
       "[744 rows x 2 columns]"
      ]
     },
     "execution_count": 6,
     "metadata": {},
     "output_type": "execute_result"
    }
   ],
   "source": [
    "# Setting df index to H for data to be joined based on it\n",
    "df.set_index('H', inplace=True)\n",
    "df"
   ]
  },
  {
   "cell_type": "markdown",
   "id": "6785811c-c84a-45e2-a4af-247588831e47",
   "metadata": {},
   "source": [
    "So far data consists of a date range by hour and weekday identified. Streaming usage data will be generated based on time of the day with 0 to 3 hourly streams during the night, 2 to 10 in the morning, 8 to 20 in the afternoon and peak of 20 to 35 streams per hour during evening periods."
   ]
  },
  {
   "cell_type": "code",
   "execution_count": 7,
   "id": "4f028165-f69c-449a-bd4e-172edab7406b",
   "metadata": {},
   "outputs": [],
   "source": [
    "# Generating random stream counts for different time of the day\n",
    "# Night streams 0 to 3 per hour\n",
    "night['streams'] = rng.integers(0, 4, len(night))\n",
    "# Morning streams 2 to 10 per hour\n",
    "morning['streams'] = rng.integers(2, 11, len(morning))\n",
    "# Afternoon streams 8 to 20 per hour\n",
    "afternoon['streams'] = rng.integers(8, 21, len(afternoon))\n",
    "# Evening streams 20 to 35 per hour\n",
    "evening['streams'] = rng.integers(20, 36, len(evening))"
   ]
  },
  {
   "cell_type": "code",
   "execution_count": 8,
   "id": "3a2e078c-7447-4d3a-89ac-8c2891ffed69",
   "metadata": {},
   "outputs": [
    {
     "data": {
      "text/html": [
       "<div>\n",
       "<style scoped>\n",
       "    .dataframe tbody tr th:only-of-type {\n",
       "        vertical-align: middle;\n",
       "    }\n",
       "\n",
       "    .dataframe tbody tr th {\n",
       "        vertical-align: top;\n",
       "    }\n",
       "\n",
       "    .dataframe thead th {\n",
       "        text-align: right;\n",
       "    }\n",
       "</style>\n",
       "<table border=\"1\" class=\"dataframe\">\n",
       "  <thead>\n",
       "    <tr style=\"text-align: right;\">\n",
       "      <th></th>\n",
       "      <th>H</th>\n",
       "      <th>periods</th>\n",
       "      <th>streams</th>\n",
       "    </tr>\n",
       "  </thead>\n",
       "  <tbody>\n",
       "    <tr>\n",
       "      <th>2021-12-01 03:00:00</th>\n",
       "      <td>3</td>\n",
       "      <td>night</td>\n",
       "      <td>3</td>\n",
       "    </tr>\n",
       "    <tr>\n",
       "      <th>2021-12-01 04:00:00</th>\n",
       "      <td>4</td>\n",
       "      <td>night</td>\n",
       "      <td>3</td>\n",
       "    </tr>\n",
       "    <tr>\n",
       "      <th>2021-12-01 05:00:00</th>\n",
       "      <td>5</td>\n",
       "      <td>night</td>\n",
       "      <td>3</td>\n",
       "    </tr>\n",
       "    <tr>\n",
       "      <th>2021-12-01 06:00:00</th>\n",
       "      <td>6</td>\n",
       "      <td>night</td>\n",
       "      <td>3</td>\n",
       "    </tr>\n",
       "    <tr>\n",
       "      <th>2021-12-02 03:00:00</th>\n",
       "      <td>27</td>\n",
       "      <td>night</td>\n",
       "      <td>2</td>\n",
       "    </tr>\n",
       "    <tr>\n",
       "      <th>...</th>\n",
       "      <td>...</td>\n",
       "      <td>...</td>\n",
       "      <td>...</td>\n",
       "    </tr>\n",
       "    <tr>\n",
       "      <th>2021-12-30 06:00:00</th>\n",
       "      <td>702</td>\n",
       "      <td>night</td>\n",
       "      <td>3</td>\n",
       "    </tr>\n",
       "    <tr>\n",
       "      <th>2021-12-31 03:00:00</th>\n",
       "      <td>723</td>\n",
       "      <td>night</td>\n",
       "      <td>3</td>\n",
       "    </tr>\n",
       "    <tr>\n",
       "      <th>2021-12-31 04:00:00</th>\n",
       "      <td>724</td>\n",
       "      <td>night</td>\n",
       "      <td>3</td>\n",
       "    </tr>\n",
       "    <tr>\n",
       "      <th>2021-12-31 05:00:00</th>\n",
       "      <td>725</td>\n",
       "      <td>night</td>\n",
       "      <td>1</td>\n",
       "    </tr>\n",
       "    <tr>\n",
       "      <th>2021-12-31 06:00:00</th>\n",
       "      <td>726</td>\n",
       "      <td>night</td>\n",
       "      <td>1</td>\n",
       "    </tr>\n",
       "  </tbody>\n",
       "</table>\n",
       "<p>124 rows × 3 columns</p>\n",
       "</div>"
      ],
      "text/plain": [
       "                       H periods  streams\n",
       "2021-12-01 03:00:00    3   night        3\n",
       "2021-12-01 04:00:00    4   night        3\n",
       "2021-12-01 05:00:00    5   night        3\n",
       "2021-12-01 06:00:00    6   night        3\n",
       "2021-12-02 03:00:00   27   night        2\n",
       "...                  ...     ...      ...\n",
       "2021-12-30 06:00:00  702   night        3\n",
       "2021-12-31 03:00:00  723   night        3\n",
       "2021-12-31 04:00:00  724   night        3\n",
       "2021-12-31 05:00:00  725   night        1\n",
       "2021-12-31 06:00:00  726   night        1\n",
       "\n",
       "[124 rows x 3 columns]"
      ]
     },
     "execution_count": 8,
     "metadata": {},
     "output_type": "execute_result"
    }
   ],
   "source": [
    "# Preview night stream data\n",
    "night"
   ]
  },
  {
   "cell_type": "markdown",
   "id": "432741d4-e8ab-44ce-a0ed-95b7c43bfe63",
   "metadata": {},
   "source": [
    "Data needs to be joined together and for that we will need to specify a common index across all dataframes, H column will be used for it."
   ]
  },
  {
   "cell_type": "code",
   "execution_count": 9,
   "id": "919a15ad-609d-4942-afc4-d794bcdafe7d",
   "metadata": {},
   "outputs": [],
   "source": [
    "# Joining time periods\n",
    "# Setting index to H for all\n",
    "night.set_index('H', inplace=True)\n",
    "morning.set_index('H', inplace=True)\n",
    "afternoon.set_index('H', inplace=True)\n",
    "evening.set_index('H', inplace=True)"
   ]
  },
  {
   "cell_type": "code",
   "execution_count": 10,
   "id": "32d08528-74d1-406b-891f-e730ebd22bc2",
   "metadata": {},
   "outputs": [
    {
     "data": {
      "text/html": [
       "<div>\n",
       "<style scoped>\n",
       "    .dataframe tbody tr th:only-of-type {\n",
       "        vertical-align: middle;\n",
       "    }\n",
       "\n",
       "    .dataframe tbody tr th {\n",
       "        vertical-align: top;\n",
       "    }\n",
       "\n",
       "    .dataframe thead th {\n",
       "        text-align: right;\n",
       "    }\n",
       "</style>\n",
       "<table border=\"1\" class=\"dataframe\">\n",
       "  <thead>\n",
       "    <tr style=\"text-align: right;\">\n",
       "      <th></th>\n",
       "      <th>periods</th>\n",
       "      <th>streams</th>\n",
       "    </tr>\n",
       "    <tr>\n",
       "      <th>H</th>\n",
       "      <th></th>\n",
       "      <th></th>\n",
       "    </tr>\n",
       "  </thead>\n",
       "  <tbody>\n",
       "    <tr>\n",
       "      <th>3</th>\n",
       "      <td>night</td>\n",
       "      <td>3</td>\n",
       "    </tr>\n",
       "    <tr>\n",
       "      <th>4</th>\n",
       "      <td>night</td>\n",
       "      <td>3</td>\n",
       "    </tr>\n",
       "    <tr>\n",
       "      <th>5</th>\n",
       "      <td>night</td>\n",
       "      <td>3</td>\n",
       "    </tr>\n",
       "    <tr>\n",
       "      <th>6</th>\n",
       "      <td>night</td>\n",
       "      <td>3</td>\n",
       "    </tr>\n",
       "    <tr>\n",
       "      <th>27</th>\n",
       "      <td>night</td>\n",
       "      <td>2</td>\n",
       "    </tr>\n",
       "    <tr>\n",
       "      <th>...</th>\n",
       "      <td>...</td>\n",
       "      <td>...</td>\n",
       "    </tr>\n",
       "    <tr>\n",
       "      <th>739</th>\n",
       "      <td>evening</td>\n",
       "      <td>22</td>\n",
       "    </tr>\n",
       "    <tr>\n",
       "      <th>740</th>\n",
       "      <td>evening</td>\n",
       "      <td>29</td>\n",
       "    </tr>\n",
       "    <tr>\n",
       "      <th>741</th>\n",
       "      <td>evening</td>\n",
       "      <td>25</td>\n",
       "    </tr>\n",
       "    <tr>\n",
       "      <th>742</th>\n",
       "      <td>evening</td>\n",
       "      <td>33</td>\n",
       "    </tr>\n",
       "    <tr>\n",
       "      <th>743</th>\n",
       "      <td>evening</td>\n",
       "      <td>25</td>\n",
       "    </tr>\n",
       "  </tbody>\n",
       "</table>\n",
       "<p>744 rows × 2 columns</p>\n",
       "</div>"
      ],
      "text/plain": [
       "     periods  streams\n",
       "H                    \n",
       "3      night        3\n",
       "4      night        3\n",
       "5      night        3\n",
       "6      night        3\n",
       "27     night        2\n",
       "..       ...      ...\n",
       "739  evening       22\n",
       "740  evening       29\n",
       "741  evening       25\n",
       "742  evening       33\n",
       "743  evening       25\n",
       "\n",
       "[744 rows x 2 columns]"
      ]
     },
     "execution_count": 10,
     "metadata": {},
     "output_type": "execute_result"
    }
   ],
   "source": [
    "# Appending all time of the day dataframes to night\n",
    "night = night.append(morning)\n",
    "night = night.append(afternoon)\n",
    "night = night.append(evening)\n",
    "night"
   ]
  },
  {
   "cell_type": "code",
   "execution_count": 11,
   "id": "008abdb0-a399-47d9-a5d2-277a74cd6d5c",
   "metadata": {},
   "outputs": [],
   "source": [
    "# Joining values together on indexed H column\n",
    "df = df.join(night, how='outer')"
   ]
  },
  {
   "cell_type": "code",
   "execution_count": 12,
   "id": "a447684a-2249-46d4-8bec-d1ef5b88a144",
   "metadata": {
    "tags": []
   },
   "outputs": [],
   "source": [
    "# Increasing weekend views to additional 30% on Fri and 40%- Sat, Sun\n",
    "# Also, rounding derived values to int \n",
    "df['streams'] = np.rint(np.where(df['weekday'] == 4, df['streams'] * 1.3, df['streams']))\n",
    "df['streams'] = np.rint(np.where((df['weekday'] == 5) | (df['weekday'] == 6), df['streams'] * 1.4, df['streams']))"
   ]
  },
  {
   "cell_type": "code",
   "execution_count": 13,
   "id": "fdb8d8bf-a110-4c48-81b3-692a932a5bb1",
   "metadata": {},
   "outputs": [
    {
     "data": {
      "text/html": [
       "<div>\n",
       "<style scoped>\n",
       "    .dataframe tbody tr th:only-of-type {\n",
       "        vertical-align: middle;\n",
       "    }\n",
       "\n",
       "    .dataframe tbody tr th {\n",
       "        vertical-align: top;\n",
       "    }\n",
       "\n",
       "    .dataframe thead th {\n",
       "        text-align: right;\n",
       "    }\n",
       "</style>\n",
       "<table border=\"1\" class=\"dataframe\">\n",
       "  <thead>\n",
       "    <tr style=\"text-align: right;\">\n",
       "      <th></th>\n",
       "      <th>udates</th>\n",
       "      <th>weekday</th>\n",
       "      <th>periods</th>\n",
       "      <th>streams</th>\n",
       "    </tr>\n",
       "    <tr>\n",
       "      <th>H</th>\n",
       "      <th></th>\n",
       "      <th></th>\n",
       "      <th></th>\n",
       "      <th></th>\n",
       "    </tr>\n",
       "  </thead>\n",
       "  <tbody>\n",
       "    <tr>\n",
       "      <th>0</th>\n",
       "      <td>2021-12-01 00:00:00</td>\n",
       "      <td>2</td>\n",
       "      <td>evening</td>\n",
       "      <td>23.0</td>\n",
       "    </tr>\n",
       "    <tr>\n",
       "      <th>1</th>\n",
       "      <td>2021-12-01 01:00:00</td>\n",
       "      <td>2</td>\n",
       "      <td>evening</td>\n",
       "      <td>29.0</td>\n",
       "    </tr>\n",
       "    <tr>\n",
       "      <th>2</th>\n",
       "      <td>2021-12-01 02:00:00</td>\n",
       "      <td>2</td>\n",
       "      <td>evening</td>\n",
       "      <td>28.0</td>\n",
       "    </tr>\n",
       "    <tr>\n",
       "      <th>3</th>\n",
       "      <td>2021-12-01 03:00:00</td>\n",
       "      <td>2</td>\n",
       "      <td>night</td>\n",
       "      <td>3.0</td>\n",
       "    </tr>\n",
       "    <tr>\n",
       "      <th>4</th>\n",
       "      <td>2021-12-01 04:00:00</td>\n",
       "      <td>2</td>\n",
       "      <td>night</td>\n",
       "      <td>3.0</td>\n",
       "    </tr>\n",
       "    <tr>\n",
       "      <th>...</th>\n",
       "      <td>...</td>\n",
       "      <td>...</td>\n",
       "      <td>...</td>\n",
       "      <td>...</td>\n",
       "    </tr>\n",
       "    <tr>\n",
       "      <th>739</th>\n",
       "      <td>2021-12-31 19:00:00</td>\n",
       "      <td>4</td>\n",
       "      <td>evening</td>\n",
       "      <td>29.0</td>\n",
       "    </tr>\n",
       "    <tr>\n",
       "      <th>740</th>\n",
       "      <td>2021-12-31 20:00:00</td>\n",
       "      <td>4</td>\n",
       "      <td>evening</td>\n",
       "      <td>38.0</td>\n",
       "    </tr>\n",
       "    <tr>\n",
       "      <th>741</th>\n",
       "      <td>2021-12-31 21:00:00</td>\n",
       "      <td>4</td>\n",
       "      <td>evening</td>\n",
       "      <td>32.0</td>\n",
       "    </tr>\n",
       "    <tr>\n",
       "      <th>742</th>\n",
       "      <td>2021-12-31 22:00:00</td>\n",
       "      <td>4</td>\n",
       "      <td>evening</td>\n",
       "      <td>43.0</td>\n",
       "    </tr>\n",
       "    <tr>\n",
       "      <th>743</th>\n",
       "      <td>2021-12-31 23:00:00</td>\n",
       "      <td>4</td>\n",
       "      <td>evening</td>\n",
       "      <td>32.0</td>\n",
       "    </tr>\n",
       "  </tbody>\n",
       "</table>\n",
       "<p>744 rows × 4 columns</p>\n",
       "</div>"
      ],
      "text/plain": [
       "                 udates  weekday  periods  streams\n",
       "H                                                 \n",
       "0   2021-12-01 00:00:00        2  evening     23.0\n",
       "1   2021-12-01 01:00:00        2  evening     29.0\n",
       "2   2021-12-01 02:00:00        2  evening     28.0\n",
       "3   2021-12-01 03:00:00        2    night      3.0\n",
       "4   2021-12-01 04:00:00        2    night      3.0\n",
       "..                  ...      ...      ...      ...\n",
       "739 2021-12-31 19:00:00        4  evening     29.0\n",
       "740 2021-12-31 20:00:00        4  evening     38.0\n",
       "741 2021-12-31 21:00:00        4  evening     32.0\n",
       "742 2021-12-31 22:00:00        4  evening     43.0\n",
       "743 2021-12-31 23:00:00        4  evening     32.0\n",
       "\n",
       "[744 rows x 4 columns]"
      ]
     },
     "execution_count": 13,
     "metadata": {},
     "output_type": "execute_result"
    }
   ],
   "source": [
    "df"
   ]
  },
  {
   "cell_type": "code",
   "execution_count": 14,
   "id": "6d006542-86d5-4def-a9c9-15f5e22f9906",
   "metadata": {},
   "outputs": [
    {
     "data": {
      "text/html": [
       "<div>\n",
       "<style scoped>\n",
       "    .dataframe tbody tr th:only-of-type {\n",
       "        vertical-align: middle;\n",
       "    }\n",
       "\n",
       "    .dataframe tbody tr th {\n",
       "        vertical-align: top;\n",
       "    }\n",
       "\n",
       "    .dataframe thead th {\n",
       "        text-align: right;\n",
       "    }\n",
       "</style>\n",
       "<table border=\"1\" class=\"dataframe\">\n",
       "  <thead>\n",
       "    <tr style=\"text-align: right;\">\n",
       "      <th></th>\n",
       "      <th>udates</th>\n",
       "      <th>weekday</th>\n",
       "      <th>periods</th>\n",
       "      <th>streams</th>\n",
       "      <th>H</th>\n",
       "    </tr>\n",
       "    <tr>\n",
       "      <th>H</th>\n",
       "      <th></th>\n",
       "      <th></th>\n",
       "      <th></th>\n",
       "      <th></th>\n",
       "      <th></th>\n",
       "    </tr>\n",
       "  </thead>\n",
       "  <tbody>\n",
       "    <tr>\n",
       "      <th>0</th>\n",
       "      <td>2021-12-01 00:00:00</td>\n",
       "      <td>2</td>\n",
       "      <td>evening</td>\n",
       "      <td>23.0</td>\n",
       "      <td>0</td>\n",
       "    </tr>\n",
       "    <tr>\n",
       "      <th>1</th>\n",
       "      <td>2021-12-01 01:00:00</td>\n",
       "      <td>2</td>\n",
       "      <td>evening</td>\n",
       "      <td>29.0</td>\n",
       "      <td>1</td>\n",
       "    </tr>\n",
       "    <tr>\n",
       "      <th>2</th>\n",
       "      <td>2021-12-01 02:00:00</td>\n",
       "      <td>2</td>\n",
       "      <td>evening</td>\n",
       "      <td>28.0</td>\n",
       "      <td>2</td>\n",
       "    </tr>\n",
       "    <tr>\n",
       "      <th>3</th>\n",
       "      <td>2021-12-01 03:00:00</td>\n",
       "      <td>2</td>\n",
       "      <td>night</td>\n",
       "      <td>3.0</td>\n",
       "      <td>3</td>\n",
       "    </tr>\n",
       "    <tr>\n",
       "      <th>4</th>\n",
       "      <td>2021-12-01 04:00:00</td>\n",
       "      <td>2</td>\n",
       "      <td>night</td>\n",
       "      <td>3.0</td>\n",
       "      <td>4</td>\n",
       "    </tr>\n",
       "    <tr>\n",
       "      <th>...</th>\n",
       "      <td>...</td>\n",
       "      <td>...</td>\n",
       "      <td>...</td>\n",
       "      <td>...</td>\n",
       "      <td>...</td>\n",
       "    </tr>\n",
       "    <tr>\n",
       "      <th>739</th>\n",
       "      <td>2021-12-31 19:00:00</td>\n",
       "      <td>4</td>\n",
       "      <td>evening</td>\n",
       "      <td>29.0</td>\n",
       "      <td>739</td>\n",
       "    </tr>\n",
       "    <tr>\n",
       "      <th>740</th>\n",
       "      <td>2021-12-31 20:00:00</td>\n",
       "      <td>4</td>\n",
       "      <td>evening</td>\n",
       "      <td>38.0</td>\n",
       "      <td>740</td>\n",
       "    </tr>\n",
       "    <tr>\n",
       "      <th>741</th>\n",
       "      <td>2021-12-31 21:00:00</td>\n",
       "      <td>4</td>\n",
       "      <td>evening</td>\n",
       "      <td>32.0</td>\n",
       "      <td>741</td>\n",
       "    </tr>\n",
       "    <tr>\n",
       "      <th>742</th>\n",
       "      <td>2021-12-31 22:00:00</td>\n",
       "      <td>4</td>\n",
       "      <td>evening</td>\n",
       "      <td>43.0</td>\n",
       "      <td>742</td>\n",
       "    </tr>\n",
       "    <tr>\n",
       "      <th>743</th>\n",
       "      <td>2021-12-31 23:00:00</td>\n",
       "      <td>4</td>\n",
       "      <td>evening</td>\n",
       "      <td>32.0</td>\n",
       "      <td>743</td>\n",
       "    </tr>\n",
       "  </tbody>\n",
       "</table>\n",
       "<p>744 rows × 5 columns</p>\n",
       "</div>"
      ],
      "text/plain": [
       "                 udates  weekday  periods  streams    H\n",
       "H                                                      \n",
       "0   2021-12-01 00:00:00        2  evening     23.0    0\n",
       "1   2021-12-01 01:00:00        2  evening     29.0    1\n",
       "2   2021-12-01 02:00:00        2  evening     28.0    2\n",
       "3   2021-12-01 03:00:00        2    night      3.0    3\n",
       "4   2021-12-01 04:00:00        2    night      3.0    4\n",
       "..                  ...      ...      ...      ...  ...\n",
       "739 2021-12-31 19:00:00        4  evening     29.0  739\n",
       "740 2021-12-31 20:00:00        4  evening     38.0  740\n",
       "741 2021-12-31 21:00:00        4  evening     32.0  741\n",
       "742 2021-12-31 22:00:00        4  evening     43.0  742\n",
       "743 2021-12-31 23:00:00        4  evening     32.0  743\n",
       "\n",
       "[744 rows x 5 columns]"
      ]
     },
     "execution_count": 14,
     "metadata": {},
     "output_type": "execute_result"
    }
   ],
   "source": [
    "# Saving count of date range hours to H column\n",
    "df['H'] = df.index\n",
    "df"
   ]
  },
  {
   "cell_type": "markdown",
   "id": "9bfb964f-2c6b-424a-aa9f-a576dc5cd263",
   "metadata": {},
   "source": [
    "# User ID"
   ]
  },
  {
   "cell_type": "markdown",
   "id": "84745097-072d-4d79-9d85-ac319196c466",
   "metadata": {},
   "source": [
    "User ID will be generated chosing two random letters followed by three random numbers, 50 active users from Ireland will have User IDs assigned. User data initially will be simulated as a separate dataframe and subsequently joined based on randomly assigned user count value N."
   ]
  },
  {
   "cell_type": "code",
   "execution_count": 15,
   "id": "b7d362be-fa1f-4201-bb79-df005772be6d",
   "metadata": {
    "tags": []
   },
   "outputs": [
    {
     "data": {
      "text/html": [
       "<div>\n",
       "<style scoped>\n",
       "    .dataframe tbody tr th:only-of-type {\n",
       "        vertical-align: middle;\n",
       "    }\n",
       "\n",
       "    .dataframe tbody tr th {\n",
       "        vertical-align: top;\n",
       "    }\n",
       "\n",
       "    .dataframe thead th {\n",
       "        text-align: right;\n",
       "    }\n",
       "</style>\n",
       "<table border=\"1\" class=\"dataframe\">\n",
       "  <thead>\n",
       "    <tr style=\"text-align: right;\">\n",
       "      <th></th>\n",
       "      <th>N</th>\n",
       "      <th>uid</th>\n",
       "    </tr>\n",
       "  </thead>\n",
       "  <tbody>\n",
       "    <tr>\n",
       "      <th>0</th>\n",
       "      <td>0</td>\n",
       "      <td>YO194</td>\n",
       "    </tr>\n",
       "    <tr>\n",
       "      <th>1</th>\n",
       "      <td>1</td>\n",
       "      <td>UA198</td>\n",
       "    </tr>\n",
       "    <tr>\n",
       "      <th>2</th>\n",
       "      <td>2</td>\n",
       "      <td>AM421</td>\n",
       "    </tr>\n",
       "    <tr>\n",
       "      <th>3</th>\n",
       "      <td>3</td>\n",
       "      <td>ID183</td>\n",
       "    </tr>\n",
       "    <tr>\n",
       "      <th>4</th>\n",
       "      <td>4</td>\n",
       "      <td>HK195</td>\n",
       "    </tr>\n",
       "    <tr>\n",
       "      <th>5</th>\n",
       "      <td>5</td>\n",
       "      <td>RZ154</td>\n",
       "    </tr>\n",
       "    <tr>\n",
       "      <th>6</th>\n",
       "      <td>6</td>\n",
       "      <td>TP415</td>\n",
       "    </tr>\n",
       "    <tr>\n",
       "      <th>7</th>\n",
       "      <td>7</td>\n",
       "      <td>UY458</td>\n",
       "    </tr>\n",
       "    <tr>\n",
       "      <th>8</th>\n",
       "      <td>8</td>\n",
       "      <td>LK787</td>\n",
       "    </tr>\n",
       "    <tr>\n",
       "      <th>9</th>\n",
       "      <td>9</td>\n",
       "      <td>YE509</td>\n",
       "    </tr>\n",
       "  </tbody>\n",
       "</table>\n",
       "</div>"
      ],
      "text/plain": [
       "   N    uid\n",
       "0  0  YO194\n",
       "1  1  UA198\n",
       "2  2  AM421\n",
       "3  3  ID183\n",
       "4  4  HK195\n",
       "5  5  RZ154\n",
       "6  6  TP415\n",
       "7  7  UY458\n",
       "8  8  LK787\n",
       "9  9  YE509"
      ]
     },
     "execution_count": 15,
     "metadata": {},
     "output_type": "execute_result"
    }
   ],
   "source": [
    "# Setting uid list for user IDs to be stored\n",
    "uid=[]\n",
    "\n",
    "# Setting random seed for Python Random method\n",
    "random.seed(124)\n",
    "\n",
    "# A for loop for radom 2 letter and random 3 digits to be generated as user IDs\n",
    "for i in range(50):\n",
    "    uid.append(''.join(random.choices(string.ascii_uppercase,k=2)) + ''.join(random.choices(string.digits,k=3)))\n",
    "\n",
    "# Creating df2 dataframe with numbered 50 users\n",
    "df2= pd.DataFrame({'N': np.arange(50)})\n",
    "\n",
    "# Adding generated user IDs to df2\n",
    "df2['uid'] = uid\n",
    "\n",
    "df2.head(10)  "
   ]
  },
  {
   "cell_type": "markdown",
   "id": "4065068f-f9b2-4d3d-88ef-4fab9cf73002",
   "metadata": {},
   "source": [
    "# User gender"
   ]
  },
  {
   "cell_type": "markdown",
   "id": "3ee20463-062d-4219-9bce-3b42bb37f192",
   "metadata": {},
   "source": [
    "Gender will be populated for User IDs that afterwards will determine random user name selection."
   ]
  },
  {
   "cell_type": "code",
   "execution_count": 16,
   "id": "68db1a26-834b-414c-8d82-aa185c00eb4b",
   "metadata": {
    "tags": []
   },
   "outputs": [
    {
     "data": {
      "text/html": [
       "<div>\n",
       "<style scoped>\n",
       "    .dataframe tbody tr th:only-of-type {\n",
       "        vertical-align: middle;\n",
       "    }\n",
       "\n",
       "    .dataframe tbody tr th {\n",
       "        vertical-align: top;\n",
       "    }\n",
       "\n",
       "    .dataframe thead th {\n",
       "        text-align: right;\n",
       "    }\n",
       "</style>\n",
       "<table border=\"1\" class=\"dataframe\">\n",
       "  <thead>\n",
       "    <tr style=\"text-align: right;\">\n",
       "      <th></th>\n",
       "      <th>N</th>\n",
       "      <th>uid</th>\n",
       "      <th>ugender</th>\n",
       "    </tr>\n",
       "  </thead>\n",
       "  <tbody>\n",
       "    <tr>\n",
       "      <th>0</th>\n",
       "      <td>0</td>\n",
       "      <td>YO194</td>\n",
       "      <td>male</td>\n",
       "    </tr>\n",
       "    <tr>\n",
       "      <th>1</th>\n",
       "      <td>1</td>\n",
       "      <td>UA198</td>\n",
       "      <td>female</td>\n",
       "    </tr>\n",
       "    <tr>\n",
       "      <th>2</th>\n",
       "      <td>2</td>\n",
       "      <td>AM421</td>\n",
       "      <td>male</td>\n",
       "    </tr>\n",
       "    <tr>\n",
       "      <th>3</th>\n",
       "      <td>3</td>\n",
       "      <td>ID183</td>\n",
       "      <td>female</td>\n",
       "    </tr>\n",
       "    <tr>\n",
       "      <th>4</th>\n",
       "      <td>4</td>\n",
       "      <td>HK195</td>\n",
       "      <td>male</td>\n",
       "    </tr>\n",
       "    <tr>\n",
       "      <th>5</th>\n",
       "      <td>5</td>\n",
       "      <td>RZ154</td>\n",
       "      <td>male</td>\n",
       "    </tr>\n",
       "    <tr>\n",
       "      <th>6</th>\n",
       "      <td>6</td>\n",
       "      <td>TP415</td>\n",
       "      <td>female</td>\n",
       "    </tr>\n",
       "    <tr>\n",
       "      <th>7</th>\n",
       "      <td>7</td>\n",
       "      <td>UY458</td>\n",
       "      <td>female</td>\n",
       "    </tr>\n",
       "    <tr>\n",
       "      <th>8</th>\n",
       "      <td>8</td>\n",
       "      <td>LK787</td>\n",
       "      <td>male</td>\n",
       "    </tr>\n",
       "    <tr>\n",
       "      <th>9</th>\n",
       "      <td>9</td>\n",
       "      <td>YE509</td>\n",
       "      <td>female</td>\n",
       "    </tr>\n",
       "  </tbody>\n",
       "</table>\n",
       "</div>"
      ],
      "text/plain": [
       "   N    uid ugender\n",
       "0  0  YO194    male\n",
       "1  1  UA198  female\n",
       "2  2  AM421    male\n",
       "3  3  ID183  female\n",
       "4  4  HK195    male\n",
       "5  5  RZ154    male\n",
       "6  6  TP415  female\n",
       "7  7  UY458  female\n",
       "8  8  LK787    male\n",
       "9  9  YE509  female"
      ]
     },
     "execution_count": 16,
     "metadata": {},
     "output_type": "execute_result"
    }
   ],
   "source": [
    "# A list for genders\n",
    "gender = ['female', 'male']\n",
    "\n",
    "# Random selection of gender for 50 Irish users\n",
    "df2['ugender'] = rng.choice(gender ,size=(len(df2)))\n",
    "df2.head(10)"
   ]
  },
  {
   "cell_type": "code",
   "execution_count": 17,
   "id": "825e757f-46e0-4487-a73b-30da9e83836d",
   "metadata": {},
   "outputs": [
    {
     "data": {
      "text/plain": [
       "male      28\n",
       "female    22\n",
       "Name: ugender, dtype: int64"
      ]
     },
     "execution_count": 17,
     "metadata": {},
     "output_type": "execute_result"
    }
   ],
   "source": [
    "# Checking gender distribution\n",
    "df2['ugender'].value_counts()"
   ]
  },
  {
   "cell_type": "markdown",
   "id": "a31daf12-5fa9-446f-af50-326eaa1db965",
   "metadata": {},
   "source": [
    "50 user distribution generated is 28 males and 22 females."
   ]
  },
  {
   "cell_type": "markdown",
   "id": "761693eb-0462-4653-9f14-67cf57477a4e",
   "metadata": {},
   "source": [
    "# User Name\n",
    "***\n",
    "MFLIX platform user name will be selected from list of popular Irish names depending on gender variable assigned previously.\n",
    "Names retrieved retrieved from [Irishcentral](https://www.irishcentral.com/roots/100-irish-language-first-names-meanings) website by copying page data to text file and using regular expressions to extract a list of 100 popular Irish names. Regular expressions are used for text processing operations, it will be used to identify the patern of numbered names in the file and save them as a list. "
   ]
  },
  {
   "cell_type": "markdown",
   "id": "9c5b1d99-5c63-433d-b126-0706c6fc5d49",
   "metadata": {},
   "source": [
    "To reproduce Names file in text format:\n",
    "1. Open the website link\n",
    "2. Press Control+p (opens printable version of the web page)\n",
    "3. Select all be pressing Control+a followed by Control+c to copy information selected\n",
    "4. Open new text document with editor of choice\n",
    "5. Contol+v inside the file to paste copied data\n",
    "6. Save txt file in project location under data folder as names.txt file"
   ]
  },
  {
   "cell_type": "markdown",
   "id": "a0505e13-9581-4c25-8779-725b90516f4c",
   "metadata": {},
   "source": [
    "https://www.irishcentral.com/roots/100-irish-language-first-names-meanings"
   ]
  },
  {
   "cell_type": "code",
   "execution_count": 18,
   "id": "be1f039c-73ca-4934-b378-03b0140da63f",
   "metadata": {
    "tags": []
   },
   "outputs": [
    {
     "name": "stdout",
     "output_type": "stream",
     "text": [
      "12/30/21, 9:25 PM 100 Irish first names and their beautiful meanings\n",
      "https://www.irishcentral.com/roots/100-irish-language-first-names-meanings 1/12\n",
      "100 Irish first names and their beautiful meanings\n",
      "Need to find an Irish name quick? Here are the top 100.\n",
      "Kayla Hertz @IrishCentral May 02, 2021\n",
      "Have a wee one on the way? Check out these Irish names. GETTY\n",
      "Looking for an Irish name for a little bundle of joy on the way or justinspired by the beauty of\n",
      "Irish names and their meanings? Here are 100 ideas for you!\n",
      "Here are today's 100 most popular Irish language baby names, with their meanings and\n",
      "pronunciations - 50 girl names and 50 boy names. See if yours made the cut, or peruse the list for\n",
      "some inspiration!\n",
      "Irish Girls Names:\n",
      "1. Aoife (ee-fa)\n",
      "This name means beautiful, radiant or joyful, and likely derives from the Gaelic word ‘aoibh’\n",
      "meaning ‘beauty’ or ‘pleasure.’ In Irish mythology, Aoife is known as the greatest woman warrior in\n",
      "the world. She gave birth to the mythological hero Cuchulainn’s only son, Connlach, and was the\n",
      "daughter of a king of Connacht. Legend has it, her marriage was arranged by St. Patrick himself.\n",
      "2. Caoimhe (kwee-va or kee-va)\n",
      "From the Gaelic word \"caomh,\"this name means gentle, beautiful or precious.\n",
      "Top gender-neutral Irish baby names we love\n",
      "READ MORE\n",
      "12/30/21, 9:25 PM 100 Irish first names and their beautiful meanings\n",
      "https://www.irishcentral.com/roots/100-irish-language-first-names-meanings 2/12\n",
      "3. Saoirse (ser-sha)\n",
      "This name means \"freedom\" or \"liberty.\"It has strong patriotic overtones and has only been in use\n",
      "since the 1920s.\n",
      "Little Saoirse? Little Ciara? What Irish name will you choose?\n",
      "4. Ciara (kee-ra)\n",
      "The feminine form of Ciaran, this name comes from the Gaelic word \"ciar,\" which means dark. It\n",
      "implies dark features, like hair or eyes. In history, St. Ciara was a distinguished figure who\n",
      "established a monastery in Co. Tipperary during the seventh century.\n",
      "5. Niamh (neev or nee-iv)\n",
      "Meaning radiance, luster or brightness. In Irish mythology, Niamh was the daughter of Manannan,\n",
      "the god of the sea - she was known as ‘Niamh of the Golden Hair’ and was usually depicted riding on\n",
      "a white horse. She was the lover of poet-hero Oisin; together they lived in Tir-na-nOg, the land of\n",
      "eternal youth.\n",
      "6. Roisin (ro-sheen)\n",
      "This name means \"little rose,\" and has been used in Ireland since the sixteenth century. When Irish\n",
      "patriotic poetry and song was outlawed in Ireland, Irish bands would disguise their nationalistic\n",
      "verses and love son\n"
     ]
    }
   ],
   "source": [
    "# Opening names.txt file for saved website data, reading its contents\n",
    "with open('data/names.txt', 'r', encoding=\"utf8\" ) as f2:\n",
    "    data = f2.read()\n",
    "    print(data[:2500])"
   ]
  },
  {
   "cell_type": "markdown",
   "id": "c3b5acc3-bfbf-40ee-9c09-3e5b0cc3a30b",
   "metadata": {},
   "source": [
    "Regular expression requires a string pattern to be specified for it to be used to find all fitting matches. Names file data has names numbered therefore it will be used for pattern matching. Regular expression will find all strings of one or more digits followed by a comma, a space and one or more letters that can be upper or lower case."
   ]
  },
  {
   "cell_type": "code",
   "execution_count": 19,
   "id": "9a919859-27f4-48f1-b517-1afebde17077",
   "metadata": {},
   "outputs": [],
   "source": [
    "# Compile the regular expression for matching pattern.\n",
    "re_names = re.compile(r'[0-9]+\\.\\s[A-Za-z]+')"
   ]
  },
  {
   "cell_type": "code",
   "execution_count": 20,
   "id": "99ead5bc-6994-4545-91bc-c42042ad075a",
   "metadata": {
    "tags": []
   },
   "outputs": [
    {
     "data": {
      "text/plain": [
       "['100.\\nKayla',\n",
       " '1. Aoife',\n",
       " '2. Caoimhe',\n",
       " '3. Saoirse',\n",
       " '4. Ciara',\n",
       " '5. Niamh',\n",
       " '6. Roisin',\n",
       " '7. Cara',\n",
       " '8. Clodagh',\n",
       " '9. Aisling']"
      ]
     },
     "execution_count": 20,
     "metadata": {},
     "output_type": "execute_result"
    }
   ],
   "source": [
    "# Compiled pattern is used to find all matches saving them as result list\n",
    "result = re.findall(re_names, data)\n",
    "result[:10]"
   ]
  },
  {
   "cell_type": "markdown",
   "id": "8f055f75-ef21-43aa-80b4-2955acf2ff5e",
   "metadata": {},
   "source": [
    "Looking at the website we should have 100 Irish names: 50 female and 50 male. Regular expression have matched 102 results- first and last will be not selected later as not relevant."
   ]
  },
  {
   "cell_type": "code",
   "execution_count": 21,
   "id": "47577ad5-3a19-4354-9af6-5fa1c33c301a",
   "metadata": {},
   "outputs": [],
   "source": [
    "# Updating list to dataframe\n",
    "namesdf = pd.DataFrame({'names':result})\n",
    "\n",
    "# Replacing '\\n' with ' '\n",
    "namesdf.replace(regex=['\\n'], value=' ', inplace= True)"
   ]
  },
  {
   "cell_type": "markdown",
   "id": "7eb9113e-735d-4152-a94f-b942be1c95af",
   "metadata": {},
   "source": [
    "Names need to be split from the numbers in the string, therefore a list is split as string on space between numbers and names."
   ]
  },
  {
   "cell_type": "code",
   "execution_count": 22,
   "id": "98ec191e-1a71-4259-84d4-d97efe802894",
   "metadata": {},
   "outputs": [],
   "source": [
    "# Splitting strings on space\n",
    "tosplit =namesdf['names'].str.split(' ')\n",
    "# Saving result as a list\n",
    "split = tosplit.to_list()\n",
    "\n",
    "# List is saved as two columns in a dataframe allowing for clean names under single column\n",
    "splitnames= pd.DataFrame(split, columns= ['numbers','names'])"
   ]
  },
  {
   "cell_type": "code",
   "execution_count": 23,
   "id": "cc95d3b0-2501-46bb-9587-9f05a8938f57",
   "metadata": {},
   "outputs": [],
   "source": [
    "# Dropping numbers column as not required\n",
    "splitnames= splitnames.drop(['numbers'], axis=1)"
   ]
  },
  {
   "cell_type": "code",
   "execution_count": 24,
   "id": "cb15e702-bef1-481a-8a6b-62aeb3e84cbd",
   "metadata": {},
   "outputs": [
    {
     "data": {
      "text/html": [
       "<div>\n",
       "<style scoped>\n",
       "    .dataframe tbody tr th:only-of-type {\n",
       "        vertical-align: middle;\n",
       "    }\n",
       "\n",
       "    .dataframe tbody tr th {\n",
       "        vertical-align: top;\n",
       "    }\n",
       "\n",
       "    .dataframe thead th {\n",
       "        text-align: right;\n",
       "    }\n",
       "</style>\n",
       "<table border=\"1\" class=\"dataframe\">\n",
       "  <thead>\n",
       "    <tr style=\"text-align: right;\">\n",
       "      <th></th>\n",
       "      <th>names</th>\n",
       "    </tr>\n",
       "  </thead>\n",
       "  <tbody>\n",
       "    <tr>\n",
       "      <th>51</th>\n",
       "      <td>Conor</td>\n",
       "    </tr>\n",
       "    <tr>\n",
       "      <th>52</th>\n",
       "      <td>Sean</td>\n",
       "    </tr>\n",
       "    <tr>\n",
       "      <th>53</th>\n",
       "      <td>Oisin</td>\n",
       "    </tr>\n",
       "    <tr>\n",
       "      <th>54</th>\n",
       "      <td>Patrick</td>\n",
       "    </tr>\n",
       "    <tr>\n",
       "      <th>55</th>\n",
       "      <td>Cian</td>\n",
       "    </tr>\n",
       "  </tbody>\n",
       "</table>\n",
       "</div>"
      ],
      "text/plain": [
       "      names\n",
       "51    Conor\n",
       "52     Sean\n",
       "53    Oisin\n",
       "54  Patrick\n",
       "55     Cian"
      ]
     },
     "execution_count": 24,
     "metadata": {},
     "output_type": "execute_result"
    }
   ],
   "source": [
    "# Slicing names to female and male leaving out value 0 and 101\n",
    "female= splitnames.iloc[1:50]\n",
    "male= splitnames.iloc[51:100]\n",
    "male.head()"
   ]
  },
  {
   "cell_type": "code",
   "execution_count": 25,
   "id": "9572b34f-85a2-4cc1-b3f8-404d591e9204",
   "metadata": {},
   "outputs": [
    {
     "data": {
      "text/html": [
       "<div>\n",
       "<style scoped>\n",
       "    .dataframe tbody tr th:only-of-type {\n",
       "        vertical-align: middle;\n",
       "    }\n",
       "\n",
       "    .dataframe tbody tr th {\n",
       "        vertical-align: top;\n",
       "    }\n",
       "\n",
       "    .dataframe thead th {\n",
       "        text-align: right;\n",
       "    }\n",
       "</style>\n",
       "<table border=\"1\" class=\"dataframe\">\n",
       "  <thead>\n",
       "    <tr style=\"text-align: right;\">\n",
       "      <th></th>\n",
       "      <th>N</th>\n",
       "      <th>uid</th>\n",
       "      <th>ugender</th>\n",
       "      <th>uname</th>\n",
       "    </tr>\n",
       "  </thead>\n",
       "  <tbody>\n",
       "    <tr>\n",
       "      <th>0</th>\n",
       "      <td>0</td>\n",
       "      <td>YO194</td>\n",
       "      <td>male</td>\n",
       "      <td>Niall</td>\n",
       "    </tr>\n",
       "    <tr>\n",
       "      <th>1</th>\n",
       "      <td>1</td>\n",
       "      <td>UA198</td>\n",
       "      <td>female</td>\n",
       "      <td>Fionnuala</td>\n",
       "    </tr>\n",
       "    <tr>\n",
       "      <th>2</th>\n",
       "      <td>2</td>\n",
       "      <td>AM421</td>\n",
       "      <td>male</td>\n",
       "      <td>Eoghan</td>\n",
       "    </tr>\n",
       "    <tr>\n",
       "      <th>3</th>\n",
       "      <td>3</td>\n",
       "      <td>ID183</td>\n",
       "      <td>female</td>\n",
       "      <td>Ciara</td>\n",
       "    </tr>\n",
       "    <tr>\n",
       "      <th>4</th>\n",
       "      <td>4</td>\n",
       "      <td>HK195</td>\n",
       "      <td>male</td>\n",
       "      <td>Aodhan</td>\n",
       "    </tr>\n",
       "    <tr>\n",
       "      <th>5</th>\n",
       "      <td>5</td>\n",
       "      <td>RZ154</td>\n",
       "      <td>male</td>\n",
       "      <td>Aidan</td>\n",
       "    </tr>\n",
       "    <tr>\n",
       "      <th>6</th>\n",
       "      <td>6</td>\n",
       "      <td>TP415</td>\n",
       "      <td>female</td>\n",
       "      <td>Cara</td>\n",
       "    </tr>\n",
       "    <tr>\n",
       "      <th>7</th>\n",
       "      <td>7</td>\n",
       "      <td>UY458</td>\n",
       "      <td>female</td>\n",
       "      <td>Dearbhla</td>\n",
       "    </tr>\n",
       "    <tr>\n",
       "      <th>8</th>\n",
       "      <td>8</td>\n",
       "      <td>LK787</td>\n",
       "      <td>male</td>\n",
       "      <td>Killian</td>\n",
       "    </tr>\n",
       "    <tr>\n",
       "      <th>9</th>\n",
       "      <td>9</td>\n",
       "      <td>YE509</td>\n",
       "      <td>female</td>\n",
       "      <td>Riona</td>\n",
       "    </tr>\n",
       "  </tbody>\n",
       "</table>\n",
       "</div>"
      ],
      "text/plain": [
       "   N    uid ugender      uname\n",
       "0  0  YO194    male      Niall\n",
       "1  1  UA198  female  Fionnuala\n",
       "2  2  AM421    male     Eoghan\n",
       "3  3  ID183  female      Ciara\n",
       "4  4  HK195    male     Aodhan\n",
       "5  5  RZ154    male      Aidan\n",
       "6  6  TP415  female       Cara\n",
       "7  7  UY458  female   Dearbhla\n",
       "8  8  LK787    male    Killian\n",
       "9  9  YE509  female      Riona"
      ]
     },
     "execution_count": 25,
     "metadata": {},
     "output_type": "execute_result"
    }
   ],
   "source": [
    "# Random selection of Irish names based on gender specified \n",
    "df2['uname'] = [rng.choice(female['names']) if x == 'female' else rng.choice(male['names']) for x in df2['ugender']]\n",
    "\n",
    "df2.head(10)"
   ]
  },
  {
   "cell_type": "markdown",
   "id": "b633311f-040b-4ae2-abbc-b49e31afefc7",
   "metadata": {},
   "source": [
    "***\n",
    "# Joining the data"
   ]
  },
  {
   "cell_type": "markdown",
   "id": "0ada0783-1823-43af-9d49-d6d6f7ca0602",
   "metadata": {},
   "source": [
    "Data will be joined together randomly assigning N- user counts number for each stream instance that will be used as index fro joining dataframes. Before it is done, data lines will be repeated by the number of streams generated for that hour, updating dataset to have a data line for each stream instance per specified hour."
   ]
  },
  {
   "cell_type": "code",
   "execution_count": 26,
   "id": "d332c3ac-ffca-4944-9fbb-d360f1a4030f",
   "metadata": {},
   "outputs": [
    {
     "data": {
      "text/html": [
       "<div>\n",
       "<style scoped>\n",
       "    .dataframe tbody tr th:only-of-type {\n",
       "        vertical-align: middle;\n",
       "    }\n",
       "\n",
       "    .dataframe tbody tr th {\n",
       "        vertical-align: top;\n",
       "    }\n",
       "\n",
       "    .dataframe thead th {\n",
       "        text-align: right;\n",
       "    }\n",
       "</style>\n",
       "<table border=\"1\" class=\"dataframe\">\n",
       "  <thead>\n",
       "    <tr style=\"text-align: right;\">\n",
       "      <th></th>\n",
       "      <th>udates</th>\n",
       "      <th>weekday</th>\n",
       "      <th>periods</th>\n",
       "      <th>streams</th>\n",
       "      <th>H</th>\n",
       "    </tr>\n",
       "  </thead>\n",
       "  <tbody>\n",
       "    <tr>\n",
       "      <th>0</th>\n",
       "      <td>2021-12-01 00:00:00</td>\n",
       "      <td>2</td>\n",
       "      <td>evening</td>\n",
       "      <td>23.0</td>\n",
       "      <td>0</td>\n",
       "    </tr>\n",
       "    <tr>\n",
       "      <th>1</th>\n",
       "      <td>2021-12-01 00:00:00</td>\n",
       "      <td>2</td>\n",
       "      <td>evening</td>\n",
       "      <td>23.0</td>\n",
       "      <td>0</td>\n",
       "    </tr>\n",
       "    <tr>\n",
       "      <th>2</th>\n",
       "      <td>2021-12-01 00:00:00</td>\n",
       "      <td>2</td>\n",
       "      <td>evening</td>\n",
       "      <td>23.0</td>\n",
       "      <td>0</td>\n",
       "    </tr>\n",
       "    <tr>\n",
       "      <th>3</th>\n",
       "      <td>2021-12-01 00:00:00</td>\n",
       "      <td>2</td>\n",
       "      <td>evening</td>\n",
       "      <td>23.0</td>\n",
       "      <td>0</td>\n",
       "    </tr>\n",
       "    <tr>\n",
       "      <th>4</th>\n",
       "      <td>2021-12-01 00:00:00</td>\n",
       "      <td>2</td>\n",
       "      <td>evening</td>\n",
       "      <td>23.0</td>\n",
       "      <td>0</td>\n",
       "    </tr>\n",
       "    <tr>\n",
       "      <th>...</th>\n",
       "      <td>...</td>\n",
       "      <td>...</td>\n",
       "      <td>...</td>\n",
       "      <td>...</td>\n",
       "      <td>...</td>\n",
       "    </tr>\n",
       "    <tr>\n",
       "      <th>12872</th>\n",
       "      <td>2021-12-31 23:00:00</td>\n",
       "      <td>4</td>\n",
       "      <td>evening</td>\n",
       "      <td>32.0</td>\n",
       "      <td>743</td>\n",
       "    </tr>\n",
       "    <tr>\n",
       "      <th>12873</th>\n",
       "      <td>2021-12-31 23:00:00</td>\n",
       "      <td>4</td>\n",
       "      <td>evening</td>\n",
       "      <td>32.0</td>\n",
       "      <td>743</td>\n",
       "    </tr>\n",
       "    <tr>\n",
       "      <th>12874</th>\n",
       "      <td>2021-12-31 23:00:00</td>\n",
       "      <td>4</td>\n",
       "      <td>evening</td>\n",
       "      <td>32.0</td>\n",
       "      <td>743</td>\n",
       "    </tr>\n",
       "    <tr>\n",
       "      <th>12875</th>\n",
       "      <td>2021-12-31 23:00:00</td>\n",
       "      <td>4</td>\n",
       "      <td>evening</td>\n",
       "      <td>32.0</td>\n",
       "      <td>743</td>\n",
       "    </tr>\n",
       "    <tr>\n",
       "      <th>12876</th>\n",
       "      <td>2021-12-31 23:00:00</td>\n",
       "      <td>4</td>\n",
       "      <td>evening</td>\n",
       "      <td>32.0</td>\n",
       "      <td>743</td>\n",
       "    </tr>\n",
       "  </tbody>\n",
       "</table>\n",
       "<p>12877 rows × 5 columns</p>\n",
       "</div>"
      ],
      "text/plain": [
       "                   udates weekday  periods streams    H\n",
       "0     2021-12-01 00:00:00       2  evening    23.0    0\n",
       "1     2021-12-01 00:00:00       2  evening    23.0    0\n",
       "2     2021-12-01 00:00:00       2  evening    23.0    0\n",
       "3     2021-12-01 00:00:00       2  evening    23.0    0\n",
       "4     2021-12-01 00:00:00       2  evening    23.0    0\n",
       "...                   ...     ...      ...     ...  ...\n",
       "12872 2021-12-31 23:00:00       4  evening    32.0  743\n",
       "12873 2021-12-31 23:00:00       4  evening    32.0  743\n",
       "12874 2021-12-31 23:00:00       4  evening    32.0  743\n",
       "12875 2021-12-31 23:00:00       4  evening    32.0  743\n",
       "12876 2021-12-31 23:00:00       4  evening    32.0  743\n",
       "\n",
       "[12877 rows x 5 columns]"
      ]
     },
     "execution_count": 26,
     "metadata": {},
     "output_type": "execute_result"
    }
   ],
   "source": [
    "# Expanding the dataframe to have value line for each stream in an hour\n",
    "fulldf = pd.DataFrame(df.values.repeat(df.streams, axis=0), columns=df.columns)\n",
    "fulldf"
   ]
  },
  {
   "cell_type": "code",
   "execution_count": 27,
   "id": "404a6d07-0dea-4147-a6be-ab8c627def4b",
   "metadata": {},
   "outputs": [
    {
     "data": {
      "text/html": [
       "<div>\n",
       "<style scoped>\n",
       "    .dataframe tbody tr th:only-of-type {\n",
       "        vertical-align: middle;\n",
       "    }\n",
       "\n",
       "    .dataframe tbody tr th {\n",
       "        vertical-align: top;\n",
       "    }\n",
       "\n",
       "    .dataframe thead th {\n",
       "        text-align: right;\n",
       "    }\n",
       "</style>\n",
       "<table border=\"1\" class=\"dataframe\">\n",
       "  <thead>\n",
       "    <tr style=\"text-align: right;\">\n",
       "      <th></th>\n",
       "      <th>udates</th>\n",
       "      <th>weekday</th>\n",
       "      <th>periods</th>\n",
       "      <th>streams</th>\n",
       "      <th>H</th>\n",
       "      <th>N</th>\n",
       "    </tr>\n",
       "  </thead>\n",
       "  <tbody>\n",
       "    <tr>\n",
       "      <th>0</th>\n",
       "      <td>2021-12-01 00:00:00</td>\n",
       "      <td>2</td>\n",
       "      <td>evening</td>\n",
       "      <td>23.0</td>\n",
       "      <td>0</td>\n",
       "      <td>44</td>\n",
       "    </tr>\n",
       "    <tr>\n",
       "      <th>1</th>\n",
       "      <td>2021-12-01 00:00:00</td>\n",
       "      <td>2</td>\n",
       "      <td>evening</td>\n",
       "      <td>23.0</td>\n",
       "      <td>0</td>\n",
       "      <td>14</td>\n",
       "    </tr>\n",
       "    <tr>\n",
       "      <th>2</th>\n",
       "      <td>2021-12-01 00:00:00</td>\n",
       "      <td>2</td>\n",
       "      <td>evening</td>\n",
       "      <td>23.0</td>\n",
       "      <td>0</td>\n",
       "      <td>2</td>\n",
       "    </tr>\n",
       "    <tr>\n",
       "      <th>3</th>\n",
       "      <td>2021-12-01 00:00:00</td>\n",
       "      <td>2</td>\n",
       "      <td>evening</td>\n",
       "      <td>23.0</td>\n",
       "      <td>0</td>\n",
       "      <td>30</td>\n",
       "    </tr>\n",
       "    <tr>\n",
       "      <th>4</th>\n",
       "      <td>2021-12-01 00:00:00</td>\n",
       "      <td>2</td>\n",
       "      <td>evening</td>\n",
       "      <td>23.0</td>\n",
       "      <td>0</td>\n",
       "      <td>9</td>\n",
       "    </tr>\n",
       "    <tr>\n",
       "      <th>...</th>\n",
       "      <td>...</td>\n",
       "      <td>...</td>\n",
       "      <td>...</td>\n",
       "      <td>...</td>\n",
       "      <td>...</td>\n",
       "      <td>...</td>\n",
       "    </tr>\n",
       "    <tr>\n",
       "      <th>12872</th>\n",
       "      <td>2021-12-31 23:00:00</td>\n",
       "      <td>4</td>\n",
       "      <td>evening</td>\n",
       "      <td>32.0</td>\n",
       "      <td>743</td>\n",
       "      <td>45</td>\n",
       "    </tr>\n",
       "    <tr>\n",
       "      <th>12873</th>\n",
       "      <td>2021-12-31 23:00:00</td>\n",
       "      <td>4</td>\n",
       "      <td>evening</td>\n",
       "      <td>32.0</td>\n",
       "      <td>743</td>\n",
       "      <td>17</td>\n",
       "    </tr>\n",
       "    <tr>\n",
       "      <th>12874</th>\n",
       "      <td>2021-12-31 23:00:00</td>\n",
       "      <td>4</td>\n",
       "      <td>evening</td>\n",
       "      <td>32.0</td>\n",
       "      <td>743</td>\n",
       "      <td>12</td>\n",
       "    </tr>\n",
       "    <tr>\n",
       "      <th>12875</th>\n",
       "      <td>2021-12-31 23:00:00</td>\n",
       "      <td>4</td>\n",
       "      <td>evening</td>\n",
       "      <td>32.0</td>\n",
       "      <td>743</td>\n",
       "      <td>16</td>\n",
       "    </tr>\n",
       "    <tr>\n",
       "      <th>12876</th>\n",
       "      <td>2021-12-31 23:00:00</td>\n",
       "      <td>4</td>\n",
       "      <td>evening</td>\n",
       "      <td>32.0</td>\n",
       "      <td>743</td>\n",
       "      <td>29</td>\n",
       "    </tr>\n",
       "  </tbody>\n",
       "</table>\n",
       "<p>12877 rows × 6 columns</p>\n",
       "</div>"
      ],
      "text/plain": [
       "                   udates weekday  periods streams    H   N\n",
       "0     2021-12-01 00:00:00       2  evening    23.0    0  44\n",
       "1     2021-12-01 00:00:00       2  evening    23.0    0  14\n",
       "2     2021-12-01 00:00:00       2  evening    23.0    0   2\n",
       "3     2021-12-01 00:00:00       2  evening    23.0    0  30\n",
       "4     2021-12-01 00:00:00       2  evening    23.0    0   9\n",
       "...                   ...     ...      ...     ...  ...  ..\n",
       "12872 2021-12-31 23:00:00       4  evening    32.0  743  45\n",
       "12873 2021-12-31 23:00:00       4  evening    32.0  743  17\n",
       "12874 2021-12-31 23:00:00       4  evening    32.0  743  12\n",
       "12875 2021-12-31 23:00:00       4  evening    32.0  743  16\n",
       "12876 2021-12-31 23:00:00       4  evening    32.0  743  29\n",
       "\n",
       "[12877 rows x 6 columns]"
      ]
     },
     "execution_count": 27,
     "metadata": {},
     "output_type": "execute_result"
    }
   ],
   "source": [
    "# Selecting N value for each observation that will be used as index to join data\n",
    "fulldf['N']= rng.choice(df2['N'],size=(len(fulldf)))\n",
    "fulldf"
   ]
  },
  {
   "cell_type": "code",
   "execution_count": 28,
   "id": "e14a9f4b-7b6b-4082-81e8-25df1d39ab5e",
   "metadata": {},
   "outputs": [],
   "source": [
    "# Setting 'N' (numner of users) as index for both dataframes\n",
    "df2.set_index('N', inplace=True)\n",
    "fulldf.set_index('N', inplace=True)"
   ]
  },
  {
   "cell_type": "code",
   "execution_count": 29,
   "id": "69d4bc33-f5a7-49a4-b6f2-ce3fa206257e",
   "metadata": {},
   "outputs": [],
   "source": [
    "# Joining df2 to fulldf\n",
    "fulldf = fulldf.join(df2)"
   ]
  },
  {
   "cell_type": "markdown",
   "id": "b3436325-cce9-43a9-8dc4-3d85baf57a7e",
   "metadata": {},
   "source": [
    "***\n",
    "# Movie/TV-Series Category\n",
    "\n",
    "Movie - TV Series category will be randomly assigned to views data from a list variable containing available categories on the MFLIX platform. Category classification has to be assigned post data is expanded and merged for each stream per hour to have real life setting where each user streams different category/movie."
   ]
  },
  {
   "cell_type": "code",
   "execution_count": 30,
   "id": "561d389e-9483-4283-9f48-0b340413c66a",
   "metadata": {},
   "outputs": [],
   "source": [
    "# Setting available movie/TV series categories\n",
    "categories = ['Action', 'Comedy', 'Drama', 'Fantasy', 'Horror', 'Mystery', 'Romance', 'Thriller', 'Western']\n",
    "# Setting probability for each category\n",
    "probability = [0.06, 0.14, 0.2, 0.18, 0.02, 0.12, 0.16, 0.02, 0.1]\n",
    "\n",
    "fulldf['categories'] = rng.choice(categories,size=(len(fulldf)), p=probability)"
   ]
  },
  {
   "cell_type": "markdown",
   "id": "59794f11-19b3-4901-9125-666de8299f99",
   "metadata": {},
   "source": [
    "# Saving Dataset"
   ]
  },
  {
   "cell_type": "code",
   "execution_count": 31,
   "id": "57d968b9-6b91-4f21-8a5e-757d9102e288",
   "metadata": {},
   "outputs": [],
   "source": [
    "# Saving generated dataset as Excel file\n",
    "fulldf.to_excel('data/finaldata.xlsx')"
   ]
  },
  {
   "cell_type": "code",
   "execution_count": 32,
   "id": "1aa551c4-58af-4185-807d-d55adbe8e709",
   "metadata": {},
   "outputs": [
    {
     "data": {
      "text/html": [
       "<div>\n",
       "<style scoped>\n",
       "    .dataframe tbody tr th:only-of-type {\n",
       "        vertical-align: middle;\n",
       "    }\n",
       "\n",
       "    .dataframe tbody tr th {\n",
       "        vertical-align: top;\n",
       "    }\n",
       "\n",
       "    .dataframe thead th {\n",
       "        text-align: right;\n",
       "    }\n",
       "</style>\n",
       "<table border=\"1\" class=\"dataframe\">\n",
       "  <thead>\n",
       "    <tr style=\"text-align: right;\">\n",
       "      <th></th>\n",
       "      <th>udates</th>\n",
       "      <th>weekday</th>\n",
       "      <th>periods</th>\n",
       "      <th>streams</th>\n",
       "      <th>H</th>\n",
       "      <th>uid</th>\n",
       "      <th>ugender</th>\n",
       "      <th>uname</th>\n",
       "      <th>categories</th>\n",
       "    </tr>\n",
       "    <tr>\n",
       "      <th>N</th>\n",
       "      <th></th>\n",
       "      <th></th>\n",
       "      <th></th>\n",
       "      <th></th>\n",
       "      <th></th>\n",
       "      <th></th>\n",
       "      <th></th>\n",
       "      <th></th>\n",
       "      <th></th>\n",
       "    </tr>\n",
       "  </thead>\n",
       "  <tbody>\n",
       "    <tr>\n",
       "      <th>0</th>\n",
       "      <td>2021-12-01 01:00:00</td>\n",
       "      <td>2</td>\n",
       "      <td>evening</td>\n",
       "      <td>29.0</td>\n",
       "      <td>1</td>\n",
       "      <td>YO194</td>\n",
       "      <td>male</td>\n",
       "      <td>Niall</td>\n",
       "      <td>Comedy</td>\n",
       "    </tr>\n",
       "    <tr>\n",
       "      <th>0</th>\n",
       "      <td>2021-12-01 10:00:00</td>\n",
       "      <td>2</td>\n",
       "      <td>morning</td>\n",
       "      <td>10.0</td>\n",
       "      <td>10</td>\n",
       "      <td>YO194</td>\n",
       "      <td>male</td>\n",
       "      <td>Niall</td>\n",
       "      <td>Romance</td>\n",
       "    </tr>\n",
       "    <tr>\n",
       "      <th>0</th>\n",
       "      <td>2021-12-01 11:00:00</td>\n",
       "      <td>2</td>\n",
       "      <td>morning</td>\n",
       "      <td>8.0</td>\n",
       "      <td>11</td>\n",
       "      <td>YO194</td>\n",
       "      <td>male</td>\n",
       "      <td>Niall</td>\n",
       "      <td>Comedy</td>\n",
       "    </tr>\n",
       "    <tr>\n",
       "      <th>0</th>\n",
       "      <td>2021-12-01 15:00:00</td>\n",
       "      <td>2</td>\n",
       "      <td>afternoon</td>\n",
       "      <td>20.0</td>\n",
       "      <td>15</td>\n",
       "      <td>YO194</td>\n",
       "      <td>male</td>\n",
       "      <td>Niall</td>\n",
       "      <td>Western</td>\n",
       "    </tr>\n",
       "    <tr>\n",
       "      <th>0</th>\n",
       "      <td>2021-12-01 21:00:00</td>\n",
       "      <td>2</td>\n",
       "      <td>evening</td>\n",
       "      <td>30.0</td>\n",
       "      <td>21</td>\n",
       "      <td>YO194</td>\n",
       "      <td>male</td>\n",
       "      <td>Niall</td>\n",
       "      <td>Western</td>\n",
       "    </tr>\n",
       "    <tr>\n",
       "      <th>...</th>\n",
       "      <td>...</td>\n",
       "      <td>...</td>\n",
       "      <td>...</td>\n",
       "      <td>...</td>\n",
       "      <td>...</td>\n",
       "      <td>...</td>\n",
       "      <td>...</td>\n",
       "      <td>...</td>\n",
       "      <td>...</td>\n",
       "    </tr>\n",
       "    <tr>\n",
       "      <th>49</th>\n",
       "      <td>2021-12-31 18:00:00</td>\n",
       "      <td>4</td>\n",
       "      <td>evening</td>\n",
       "      <td>40.0</td>\n",
       "      <td>738</td>\n",
       "      <td>HZ669</td>\n",
       "      <td>male</td>\n",
       "      <td>Eoin</td>\n",
       "      <td>Romance</td>\n",
       "    </tr>\n",
       "    <tr>\n",
       "      <th>49</th>\n",
       "      <td>2021-12-31 20:00:00</td>\n",
       "      <td>4</td>\n",
       "      <td>evening</td>\n",
       "      <td>38.0</td>\n",
       "      <td>740</td>\n",
       "      <td>HZ669</td>\n",
       "      <td>male</td>\n",
       "      <td>Eoin</td>\n",
       "      <td>Romance</td>\n",
       "    </tr>\n",
       "    <tr>\n",
       "      <th>49</th>\n",
       "      <td>2021-12-31 20:00:00</td>\n",
       "      <td>4</td>\n",
       "      <td>evening</td>\n",
       "      <td>38.0</td>\n",
       "      <td>740</td>\n",
       "      <td>HZ669</td>\n",
       "      <td>male</td>\n",
       "      <td>Eoin</td>\n",
       "      <td>Comedy</td>\n",
       "    </tr>\n",
       "    <tr>\n",
       "      <th>49</th>\n",
       "      <td>2021-12-31 20:00:00</td>\n",
       "      <td>4</td>\n",
       "      <td>evening</td>\n",
       "      <td>38.0</td>\n",
       "      <td>740</td>\n",
       "      <td>HZ669</td>\n",
       "      <td>male</td>\n",
       "      <td>Eoin</td>\n",
       "      <td>Romance</td>\n",
       "    </tr>\n",
       "    <tr>\n",
       "      <th>49</th>\n",
       "      <td>2021-12-31 21:00:00</td>\n",
       "      <td>4</td>\n",
       "      <td>evening</td>\n",
       "      <td>32.0</td>\n",
       "      <td>741</td>\n",
       "      <td>HZ669</td>\n",
       "      <td>male</td>\n",
       "      <td>Eoin</td>\n",
       "      <td>Fantasy</td>\n",
       "    </tr>\n",
       "  </tbody>\n",
       "</table>\n",
       "<p>12877 rows × 9 columns</p>\n",
       "</div>"
      ],
      "text/plain": [
       "                udates weekday    periods streams    H    uid ugender  uname  \\\n",
       "N                                                                              \n",
       "0  2021-12-01 01:00:00       2    evening    29.0    1  YO194    male  Niall   \n",
       "0  2021-12-01 10:00:00       2    morning    10.0   10  YO194    male  Niall   \n",
       "0  2021-12-01 11:00:00       2    morning     8.0   11  YO194    male  Niall   \n",
       "0  2021-12-01 15:00:00       2  afternoon    20.0   15  YO194    male  Niall   \n",
       "0  2021-12-01 21:00:00       2    evening    30.0   21  YO194    male  Niall   \n",
       "..                 ...     ...        ...     ...  ...    ...     ...    ...   \n",
       "49 2021-12-31 18:00:00       4    evening    40.0  738  HZ669    male   Eoin   \n",
       "49 2021-12-31 20:00:00       4    evening    38.0  740  HZ669    male   Eoin   \n",
       "49 2021-12-31 20:00:00       4    evening    38.0  740  HZ669    male   Eoin   \n",
       "49 2021-12-31 20:00:00       4    evening    38.0  740  HZ669    male   Eoin   \n",
       "49 2021-12-31 21:00:00       4    evening    32.0  741  HZ669    male   Eoin   \n",
       "\n",
       "   categories  \n",
       "N              \n",
       "0      Comedy  \n",
       "0     Romance  \n",
       "0      Comedy  \n",
       "0     Western  \n",
       "0     Western  \n",
       "..        ...  \n",
       "49    Romance  \n",
       "49    Romance  \n",
       "49     Comedy  \n",
       "49    Romance  \n",
       "49    Fantasy  \n",
       "\n",
       "[12877 rows x 9 columns]"
      ]
     },
     "execution_count": 32,
     "metadata": {},
     "output_type": "execute_result"
    }
   ],
   "source": [
    "fulldf"
   ]
  },
  {
   "cell_type": "markdown",
   "id": "bb0e87e8-686b-441e-a595-ef2bf702d4b3",
   "metadata": {},
   "source": [
    "# Dataset overview and analysis\n",
    "\n",
    "Due to dataset having a line for each observation and mostly categorical values a form of count plot will be used to visualise data. As there is no limit of streams per account in instances where more than one stream per hour takes place will lead to generalisation that user account is shared by a number of people. Below analysis of generated data will look at MFLIX usage statistics for December 2021 with visualisations highlighting key points."
   ]
  },
  {
   "cell_type": "code",
   "execution_count": 33,
   "id": "3814b794-37d3-48a2-b1e8-12691ca83f09",
   "metadata": {},
   "outputs": [
    {
     "name": "stdout",
     "output_type": "stream",
     "text": [
      "Dimensions of MFLIX dataset is: rows (12877, 9) columns.\n"
     ]
    }
   ],
   "source": [
    "# Dimensions of dataset\n",
    "print(\"Dimensions of MFLIX dataset is: rows {} columns.\" .format(fulldf.shape))"
   ]
  },
  {
   "cell_type": "markdown",
   "id": "2eb58035-bc00-4158-bdab-bff06a54804d",
   "metadata": {},
   "source": [
    "MFLIX dataset has 12442 rows across 9 variable columns."
   ]
  },
  {
   "cell_type": "code",
   "execution_count": 34,
   "id": "c48667b4-1173-41ab-9c31-f92503d1579f",
   "metadata": {},
   "outputs": [
    {
     "name": "stdout",
     "output_type": "stream",
     "text": [
      "<class 'pandas.core.frame.DataFrame'>\n",
      "Int64Index: 12877 entries, 0 to 49\n",
      "Data columns (total 9 columns):\n",
      " #   Column      Non-Null Count  Dtype         \n",
      "---  ------      --------------  -----         \n",
      " 0   udates      12877 non-null  datetime64[ns]\n",
      " 1   weekday     12877 non-null  object        \n",
      " 2   periods     12877 non-null  object        \n",
      " 3   streams     12877 non-null  object        \n",
      " 4   H           12877 non-null  object        \n",
      " 5   uid         12877 non-null  object        \n",
      " 6   ugender     12877 non-null  object        \n",
      " 7   uname       12877 non-null  object        \n",
      " 8   categories  12877 non-null  object        \n",
      "dtypes: datetime64[ns](1), object(8)\n",
      "memory usage: 1006.0+ KB\n"
     ]
    }
   ],
   "source": [
    "# Dataset information for values and data types generated.\n",
    "fulldf.info()"
   ]
  },
  {
   "cell_type": "markdown",
   "id": "4cbe41df-7a27-4590-bd75-bbad4871a12f",
   "metadata": {},
   "source": [
    "Data is indexed by user count number for 50 Irish users, only udates column is has datetime64 data type where the rest of 8 columns have object data type. Memory used is around 972.0 KB."
   ]
  },
  {
   "cell_type": "code",
   "execution_count": 35,
   "id": "5bec7d0a-b6fc-469d-8297-839169cca3a3",
   "metadata": {},
   "outputs": [
    {
     "data": {
      "text/html": [
       "<div>\n",
       "<style scoped>\n",
       "    .dataframe tbody tr th:only-of-type {\n",
       "        vertical-align: middle;\n",
       "    }\n",
       "\n",
       "    .dataframe tbody tr th {\n",
       "        vertical-align: top;\n",
       "    }\n",
       "\n",
       "    .dataframe thead th {\n",
       "        text-align: right;\n",
       "    }\n",
       "</style>\n",
       "<table border=\"1\" class=\"dataframe\">\n",
       "  <thead>\n",
       "    <tr style=\"text-align: right;\">\n",
       "      <th></th>\n",
       "      <th>udates</th>\n",
       "      <th>weekday</th>\n",
       "      <th>periods</th>\n",
       "      <th>streams</th>\n",
       "      <th>H</th>\n",
       "      <th>uid</th>\n",
       "      <th>ugender</th>\n",
       "      <th>uname</th>\n",
       "      <th>categories</th>\n",
       "    </tr>\n",
       "  </thead>\n",
       "  <tbody>\n",
       "    <tr>\n",
       "      <th>count</th>\n",
       "      <td>12877</td>\n",
       "      <td>12877.0</td>\n",
       "      <td>12877</td>\n",
       "      <td>12877.0</td>\n",
       "      <td>12877.0</td>\n",
       "      <td>12877</td>\n",
       "      <td>12877</td>\n",
       "      <td>12877</td>\n",
       "      <td>12877</td>\n",
       "    </tr>\n",
       "    <tr>\n",
       "      <th>unique</th>\n",
       "      <td>NaN</td>\n",
       "      <td>7.0</td>\n",
       "      <td>4</td>\n",
       "      <td>47.0</td>\n",
       "      <td>717.0</td>\n",
       "      <td>50</td>\n",
       "      <td>2</td>\n",
       "      <td>38</td>\n",
       "      <td>9</td>\n",
       "    </tr>\n",
       "    <tr>\n",
       "      <th>top</th>\n",
       "      <td>NaN</td>\n",
       "      <td>4.0</td>\n",
       "      <td>evening</td>\n",
       "      <td>32.0</td>\n",
       "      <td>434.0</td>\n",
       "      <td>DN330</td>\n",
       "      <td>male</td>\n",
       "      <td>Killian</td>\n",
       "      <td>Drama</td>\n",
       "    </tr>\n",
       "    <tr>\n",
       "      <th>freq</th>\n",
       "      <td>NaN</td>\n",
       "      <td>2387.0</td>\n",
       "      <td>8792</td>\n",
       "      <td>704.0</td>\n",
       "      <td>49.0</td>\n",
       "      <td>301</td>\n",
       "      <td>7224</td>\n",
       "      <td>762</td>\n",
       "      <td>2488</td>\n",
       "    </tr>\n",
       "    <tr>\n",
       "      <th>mean</th>\n",
       "      <td>2021-12-16 11:27:35.603012864</td>\n",
       "      <td>NaN</td>\n",
       "      <td>NaN</td>\n",
       "      <td>NaN</td>\n",
       "      <td>NaN</td>\n",
       "      <td>NaN</td>\n",
       "      <td>NaN</td>\n",
       "      <td>NaN</td>\n",
       "      <td>NaN</td>\n",
       "    </tr>\n",
       "    <tr>\n",
       "      <th>min</th>\n",
       "      <td>2021-12-01 00:00:00</td>\n",
       "      <td>NaN</td>\n",
       "      <td>NaN</td>\n",
       "      <td>NaN</td>\n",
       "      <td>NaN</td>\n",
       "      <td>NaN</td>\n",
       "      <td>NaN</td>\n",
       "      <td>NaN</td>\n",
       "      <td>NaN</td>\n",
       "    </tr>\n",
       "    <tr>\n",
       "      <th>25%</th>\n",
       "      <td>2021-12-08 18:00:00</td>\n",
       "      <td>NaN</td>\n",
       "      <td>NaN</td>\n",
       "      <td>NaN</td>\n",
       "      <td>NaN</td>\n",
       "      <td>NaN</td>\n",
       "      <td>NaN</td>\n",
       "      <td>NaN</td>\n",
       "      <td>NaN</td>\n",
       "    </tr>\n",
       "    <tr>\n",
       "      <th>50%</th>\n",
       "      <td>2021-12-16 19:00:00</td>\n",
       "      <td>NaN</td>\n",
       "      <td>NaN</td>\n",
       "      <td>NaN</td>\n",
       "      <td>NaN</td>\n",
       "      <td>NaN</td>\n",
       "      <td>NaN</td>\n",
       "      <td>NaN</td>\n",
       "      <td>NaN</td>\n",
       "    </tr>\n",
       "    <tr>\n",
       "      <th>75%</th>\n",
       "      <td>2021-12-24 14:00:00</td>\n",
       "      <td>NaN</td>\n",
       "      <td>NaN</td>\n",
       "      <td>NaN</td>\n",
       "      <td>NaN</td>\n",
       "      <td>NaN</td>\n",
       "      <td>NaN</td>\n",
       "      <td>NaN</td>\n",
       "      <td>NaN</td>\n",
       "    </tr>\n",
       "    <tr>\n",
       "      <th>max</th>\n",
       "      <td>2021-12-31 23:00:00</td>\n",
       "      <td>NaN</td>\n",
       "      <td>NaN</td>\n",
       "      <td>NaN</td>\n",
       "      <td>NaN</td>\n",
       "      <td>NaN</td>\n",
       "      <td>NaN</td>\n",
       "      <td>NaN</td>\n",
       "      <td>NaN</td>\n",
       "    </tr>\n",
       "  </tbody>\n",
       "</table>\n",
       "</div>"
      ],
      "text/plain": [
       "                               udates  weekday  periods  streams        H  \\\n",
       "count                           12877  12877.0    12877  12877.0  12877.0   \n",
       "unique                            NaN      7.0        4     47.0    717.0   \n",
       "top                               NaN      4.0  evening     32.0    434.0   \n",
       "freq                              NaN   2387.0     8792    704.0     49.0   \n",
       "mean    2021-12-16 11:27:35.603012864      NaN      NaN      NaN      NaN   \n",
       "min               2021-12-01 00:00:00      NaN      NaN      NaN      NaN   \n",
       "25%               2021-12-08 18:00:00      NaN      NaN      NaN      NaN   \n",
       "50%               2021-12-16 19:00:00      NaN      NaN      NaN      NaN   \n",
       "75%               2021-12-24 14:00:00      NaN      NaN      NaN      NaN   \n",
       "max               2021-12-31 23:00:00      NaN      NaN      NaN      NaN   \n",
       "\n",
       "          uid ugender    uname categories  \n",
       "count   12877   12877    12877      12877  \n",
       "unique     50       2       38          9  \n",
       "top     DN330    male  Killian      Drama  \n",
       "freq      301    7224      762       2488  \n",
       "mean      NaN     NaN      NaN        NaN  \n",
       "min       NaN     NaN      NaN        NaN  \n",
       "25%       NaN     NaN      NaN        NaN  \n",
       "50%       NaN     NaN      NaN        NaN  \n",
       "75%       NaN     NaN      NaN        NaN  \n",
       "max       NaN     NaN      NaN        NaN  "
      ]
     },
     "execution_count": 35,
     "metadata": {},
     "output_type": "execute_result"
    }
   ],
   "source": [
    "# Descriptive statistics including all columns and taking date time values as numeric\n",
    "fulldf.describe(include='all', datetime_is_numeric=True)"
   ]
  },
  {
   "cell_type": "markdown",
   "id": "a6e420b5-12ca-4fbd-9798-d455666cece0",
   "metadata": {},
   "source": [
    "We can see there are no missing values as every column has 12442 value count. Top user is male named Killian with user ID DN330. Most watched category in December was Drama."
   ]
  },
  {
   "cell_type": "code",
   "execution_count": 36,
   "id": "350c3483-f16b-498f-a50b-57cc96fc79bf",
   "metadata": {},
   "outputs": [
    {
     "data": {
      "text/plain": [
       "male      7224\n",
       "female    5653\n",
       "Name: ugender, dtype: int64"
      ]
     },
     "execution_count": 36,
     "metadata": {},
     "output_type": "execute_result"
    }
   ],
   "source": [
    "# Total streams by gender\n",
    "fulldf['ugender'].value_counts()"
   ]
  },
  {
   "cell_type": "markdown",
   "id": "02e3b695-47e6-4f24-9d77-632ce8932f7e",
   "metadata": {},
   "source": [
    "There were 6970 streams by male users and 5472 by female users. Difference can be explained by comparing MFLIX platform user count by gender where there are 6 males more ompared to females."
   ]
  },
  {
   "cell_type": "code",
   "execution_count": 37,
   "id": "adfd0857-6675-4de0-b096-b07e356c97f9",
   "metadata": {},
   "outputs": [
    {
     "data": {
      "text/plain": [
       "Drama       2488\n",
       "Fantasy     2350\n",
       "Romance     2070\n",
       "Comedy      1862\n",
       "Mystery     1478\n",
       "Western     1305\n",
       "Action       785\n",
       "Thriller     281\n",
       "Horror       258\n",
       "Name: categories, dtype: int64"
      ]
     },
     "execution_count": 37,
     "metadata": {},
     "output_type": "execute_result"
    }
   ],
   "source": [
    "# Total streams by category\n",
    "fulldf['categories'].value_counts()"
   ]
  },
  {
   "cell_type": "markdown",
   "id": "da227181-f804-45a1-a8a8-1f112312be56",
   "metadata": {},
   "source": [
    "Looking at total streams by category Drama comes out as most popular with Fantasy and Romance froming top 3 viewed categories."
   ]
  },
  {
   "cell_type": "code",
   "execution_count": 38,
   "id": "1a88e78f-06c7-4821-a30d-9d06e137e7f6",
   "metadata": {},
   "outputs": [],
   "source": [
    "# Slicing one weeks data from 19/12/2021 to 26/12/2021\n",
    "week3 = fulldf[(fulldf['udates'] > '2021-12-20') & (fulldf['udates'] <= '2021-12-27')]"
   ]
  },
  {
   "cell_type": "code",
   "execution_count": 39,
   "id": "5ebe9fcb-96f0-492b-ae6b-b03e43136353",
   "metadata": {},
   "outputs": [
    {
     "data": {
      "text/plain": [
       "Drama       619\n",
       "Fantasy     538\n",
       "Romance     464\n",
       "Comedy      396\n",
       "Western     321\n",
       "Mystery     308\n",
       "Action      183\n",
       "Horror       70\n",
       "Thriller     64\n",
       "Name: categories, dtype: int64"
      ]
     },
     "execution_count": 39,
     "metadata": {},
     "output_type": "execute_result"
    }
   ],
   "source": [
    "# Week 3 streams by category\n",
    "week3['categories'].value_counts()"
   ]
  },
  {
   "cell_type": "markdown",
   "id": "d015b459-151a-4dfb-8e69-7f32494b6e96",
   "metadata": {},
   "source": [
    "Looking at third week of December data top watched categories are slightly different with Horror overtaking Thriller and Western overtaking Mystery."
   ]
  },
  {
   "cell_type": "code",
   "execution_count": 40,
   "id": "ff168b5f-b44b-4b09-b24b-8a9770be2000",
   "metadata": {},
   "outputs": [
    {
     "data": {
      "image/png": "[encoded data removed]",
      "text/plain": [
       "<Figure size 432x288 with 2 Axes>"
      ]
     },
     "metadata": {
      "needs_background": "light"
     },
     "output_type": "display_data"
    }
   ],
   "source": [
    "# Third week of December categories by popularity bar plot\n",
    "plt.subplot(1,2,1) # Side by side subplots\n",
    "week3.categories.value_counts().sort_values().plot(kind = 'barh')\n",
    "\n",
    "plt.grid(axis='x', c='black', ls=':', lw='1')\n",
    "plt.title('Week 3 Categories by Stream Count')\n",
    "plt.xlabel(\"Streams\")\n",
    "\n",
    "# All December categories by popularity pie plot\n",
    "plt.subplot(1,2,2) # Side by side subplots\n",
    "fulldf.categories.value_counts().sort_values().plot(kind = 'pie')\n",
    "\n",
    "plt.title('December Movie Categories by Views')\n",
    "plt.ylabel(\"\")\n",
    "\n",
    "plt.tight_layout()\n",
    "plt.show()"
   ]
  },
  {
   "cell_type": "code",
   "execution_count": 41,
   "id": "6ee1c0db-e184-44bd-a16a-ea6e5d2cb2ba",
   "metadata": {},
   "outputs": [
    {
     "data": {
      "text/plain": [
       "evening      8792\n",
       "afternoon    2545\n",
       "morning      1310\n",
       "night         230\n",
       "Name: periods, dtype: int64"
      ]
     },
     "execution_count": 41,
     "metadata": {},
     "output_type": "execute_result"
    }
   ],
   "source": [
    "# Total streams by time of the day\n",
    "fulldf['periods'].value_counts()"
   ]
  },
  {
   "cell_type": "markdown",
   "id": "b3a6407d-5fcc-4ff9-bd9e-10640e2a4e96",
   "metadata": {},
   "source": [
    "As intended peak platform usage is seen during evening hours followed by afternoon views."
   ]
  },
  {
   "cell_type": "code",
   "execution_count": null,
   "id": "dbd340fd-9d5b-43bc-b242-87cc5f47d1e7",
   "metadata": {},
   "outputs": [],
   "source": []
  },
  {
   "cell_type": "code",
   "execution_count": 43,
   "id": "44387260-1b2f-4654-a41c-00741a0bcdea",
   "metadata": {},
   "outputs": [
    {
     "data": {
      "image/png": "[encoded data removed]",
      "text/plain": [
       "<Figure size 360x360 with 1 Axes>"
      ]
     },
     "metadata": {},
     "output_type": "display_data"
    }
   ],
   "source": [
    "# Distribution plot for third week of December usage by time of day\n",
    "\n",
    "# Setting plot style to Solarize_Light2\n",
    "plt.style.use('Solarize_Light2')\n",
    "\n",
    "# Setting plot parameters\n",
    "sns.displot(week3, x='periods')\n",
    "plt.title('Week 3 Stream Count by Time of Day')\n",
    "plt.xlabel(\"Time of the day\")\n",
    "plt.ylabel(\"Count\")\n",
    "\n",
    "plt.tight_layout()\n",
    "plt.show()"
   ]
  },
  {
   "cell_type": "code",
   "execution_count": null,
   "id": "93b7ca90-31c7-4cd5-b5d6-6f10da647762",
   "metadata": {},
   "outputs": [],
   "source": []
  },
  {
   "cell_type": "code",
   "execution_count": 47,
   "id": "0fa8dfa8-ad1d-48c9-8776-8c00a1d62769",
   "metadata": {},
   "outputs": [
    {
     "data": {
      "image/png": "[encoded data removed]",
      "text/plain": [
       "<Figure size 1440x360 with 1 Axes>"
      ]
     },
     "metadata": {},
     "output_type": "display_data"
    }
   ],
   "source": [
    "# Week 3 Movie Categories Distribution by Gender Plot\n",
    "\n",
    "# Seaborn plot style- white with red palette\n",
    "sns.set_style(\"whitegrid\")\n",
    "sns.set_palette(\"Reds\")\n",
    "plt.figure(figsize=(20,5))\n",
    "\n",
    "# Setting plot parameters\n",
    "sns.countplot(x=\"categories\", hue=\"ugender\", data=week3)\n",
    "plt.title('Week 3 Categories Distribution by Gender')\n",
    "plt.xlabel(\"Categories\")\n",
    "plt.ylabel(\"Count\")\n",
    "\n",
    "plt.show()"
   ]
  },
  {
   "cell_type": "code",
   "execution_count": null,
   "id": "c0ec2b8c-dd67-4694-8bbf-93823e7cffe7",
   "metadata": {},
   "outputs": [],
   "source": []
  },
  {
   "cell_type": "code",
   "execution_count": 48,
   "id": "aa0af274-372d-41ce-abeb-aa99e1a743bb",
   "metadata": {},
   "outputs": [
    {
     "data": {
      "text/plain": [
       "4    2387\n",
       "6    2059\n",
       "5    1989\n",
       "3    1778\n",
       "2    1774\n",
       "1    1475\n",
       "0    1415\n",
       "Name: weekday, dtype: int64"
      ]
     },
     "execution_count": 48,
     "metadata": {},
     "output_type": "execute_result"
    }
   ],
   "source": [
    "# Total streams by day of the week\n",
    "fulldf['weekday'].value_counts()"
   ]
  },
  {
   "cell_type": "markdown",
   "id": "d913df27-eb55-4168-8d83-9913a2a8584e",
   "metadata": {},
   "source": [
    "Highest daily usage during the month is observed on Friday followed by Saturday and Sunday. This is unexpected as Saturday and Sunday should ahve 10% more views compared to Friday, yet after confirming to calendar it evident values of 5 Fridays in December are taken where it is 4 Saturdays and Sundays. It highlights importance of reviewing and challenging data to close out any possible divergence."
   ]
  },
  {
   "cell_type": "code",
   "execution_count": 45,
   "id": "08dc4f7a-b861-4a24-900b-2a1165251c47",
   "metadata": {},
   "outputs": [
    {
     "data": {
      "text/plain": [
       "[Text(0, 0, 'Mon'),\n",
       " Text(1, 0, 'Tue'),\n",
       " Text(2, 0, 'Wed'),\n",
       " Text(3, 0, 'Thu'),\n",
       " Text(4, 0, 'Fri'),\n",
       " Text(5, 0, 'Sat'),\n",
       " Text(6, 0, 'Sun')]"
      ]
     },
     "execution_count": 45,
     "metadata": {},
     "output_type": "execute_result"
    },
    {
     "data": {
      "image/png": "[encoded data removed]",
      "text/plain": [
       "<Figure size 1440x360 with 1 Axes>"
      ]
     },
     "metadata": {},
     "output_type": "display_data"
    }
   ],
   "source": [
    "# Week 3 Stream Distribution by Time of Day Plot\n",
    "\n",
    "# Seaborn plot style- white\n",
    "sns.set_theme(style=\"darkgrid\")\n",
    "plt.figure(figsize=(20,5))\n",
    "labels= ['Mon', 'Tue', 'Wed', 'Thu', 'Fri', 'Sat', 'Sun']\n",
    "\n",
    "# Setting plot parameters\n",
    "ax = sns.countplot(x=\"weekday\", hue=\"periods\", data=week3)\n",
    "plt.title('Week 3 Stream Distribution by Time of Day')\n",
    "ax.set_xticklabels(labels)"
   ]
  },
  {
   "cell_type": "code",
   "execution_count": null,
   "id": "f9cfe9cc-b48c-43c9-84b5-103655ff9485",
   "metadata": {},
   "outputs": [],
   "source": []
  },
  {
   "cell_type": "code",
   "execution_count": 46,
   "id": "ae68bc93-9ab0-4e6d-a9b5-000b8e2d343b",
   "metadata": {},
   "outputs": [
    {
     "data": {
      "image/png": "[encoded data removed]",
      "text/plain": [
       "<Figure size 1440x360 with 1 Axes>"
      ]
     },
     "metadata": {},
     "output_type": "display_data"
    }
   ],
   "source": [
    "# Seaborn plot style- white\n",
    "sns.set_theme(style=\"white\")\n",
    "plt.figure(figsize=(20,5))\n",
    "\n",
    "# Setting plot parameters\n",
    "sns.kdeplot(fulldf['udates'], bw_adjust= 0.3)\n",
    "plt.title('MFLIX Stream Count in December 2021')\n",
    "plt.xlabel(\"Usage Date\")\n",
    "\n",
    "plt.tight_layout()\n",
    "plt.show()"
   ]
  },
  {
   "cell_type": "code",
   "execution_count": null,
   "id": "ece1cd46-3970-48a4-a348-a3eade8f1002",
   "metadata": {},
   "outputs": [],
   "source": []
  },
  {
   "cell_type": "markdown",
   "id": "7e5e19c3-588c-459c-9782-622ab5c989cc",
   "metadata": {},
   "source": []
  },
  {
   "cell_type": "markdown",
   "id": "8a1ca4c2-709e-42c3-80cf-ed5af0196b1f",
   "metadata": {},
   "source": [
    "# Bibliography"
   ]
  },
  {
   "cell_type": "markdown",
   "id": "e5366d2d-76f7-45a7-8b88-c3df4cc64cdb",
   "metadata": {},
   "source": [
    "https://stackoverflow.com/questions/41598916/resize-the-image-in-jupyter-notebook-using-markdown"
   ]
  },
  {
   "cell_type": "markdown",
   "id": "79a1b6be-659e-4cea-bbd1-6453b7552c86",
   "metadata": {},
   "source": [
    "https://stackoverflow.com/questions/41598916/resize-the-image-in-jupyter-notebook-using-markdown"
   ]
  },
  {
   "cell_type": "markdown",
   "id": "e678474e-1af7-4d83-9ae1-d37a2ae21d4a",
   "metadata": {},
   "source": [
    "https://stackoverflow.com/questions/56310849/generate-random-timeseries-data-with-dates"
   ]
  },
  {
   "cell_type": "markdown",
   "id": "870f4587-3c9b-478d-a80e-e71ea0afd784",
   "metadata": {},
   "source": [
    "https://pandas.pydata.org/pandas-docs/stable/user_guide/timeseries.html"
   ]
  },
  {
   "cell_type": "markdown",
   "id": "d194097c-b9c7-4fe2-a2f9-7df24c2461cb",
   "metadata": {},
   "source": [
    "https://pandas.pydata.org/pandas-docs/stable/user_guide/timeseries.html"
   ]
  },
  {
   "cell_type": "markdown",
   "id": "13ffbcbe-fc0f-4fad-9025-7b6a2e77b610",
   "metadata": {},
   "source": [
    "https://numpy.org/doc/stable/reference/generated/numpy.rint.html\n"
   ]
  },
  {
   "cell_type": "markdown",
   "id": "ad8a88a8-47cf-4fbe-aa45-0ac14d91f9f1",
   "metadata": {},
   "source": [
    "https://stackoverflow.com/questions/28009370/get-weekday-day-of-week-for-datetime-column-of-dataframe"
   ]
  },
  {
   "cell_type": "markdown",
   "id": "4132a8c8-ab6e-4e0c-9727-03333eb41c8e",
   "metadata": {},
   "source": [
    "https://pandas.pydata.org/pandas-docs/version/0.17.1/merging.html"
   ]
  },
  {
   "cell_type": "markdown",
   "id": "d554ee70-d7cd-42db-9198-47f41a2708c8",
   "metadata": {},
   "source": [
    "https://www.stackvidhya.com/pandas-iterate-over-rows/"
   ]
  },
  {
   "cell_type": "markdown",
   "id": "5f67fd79-e20d-47ac-938d-cfd6ef8b6409",
   "metadata": {},
   "source": [
    "https://datagy.io/pandas-conditional-column/"
   ]
  },
  {
   "cell_type": "markdown",
   "id": "b12c52a1-bdfe-42e5-b9de-d6c6aa076d25",
   "metadata": {},
   "source": [
    "https://pandas.pydata.org/docs/reference/api/pandas.DataFrame.itertuples.html"
   ]
  },
  {
   "cell_type": "markdown",
   "id": "1bf72e16-753f-463a-a1ff-8e1c8d6e6993",
   "metadata": {},
   "source": [
    "https://www.geeksforgeeks.org/how-to-generate-a-random-letter-in-python/"
   ]
  },
  {
   "cell_type": "markdown",
   "id": "ebb7d019-1f98-4373-b24a-f64b9caaa933",
   "metadata": {},
   "source": [
    "https://stackoverflow.com/questions/2823316/generate-a-random-letter-in-python"
   ]
  },
  {
   "cell_type": "markdown",
   "id": "fbaae613-a665-4b9c-af84-cde16902b51d",
   "metadata": {},
   "source": [
    "https://pandas.pydata.org/pandas-docs/stable/user_guide/merging.html"
   ]
  },
  {
   "cell_type": "markdown",
   "id": "cac74868-b4ac-4ef7-a373-e97c8a7e3e2e",
   "metadata": {},
   "source": [
    "https://www.tutorialspoint.com/python/string_decode.html"
   ]
  },
  {
   "cell_type": "markdown",
   "id": "54debe76-4fce-4052-b95e-d429f3cba7e9",
   "metadata": {},
   "source": [
    "https://docs.python.org/3/library/re.html#re.search"
   ]
  },
  {
   "cell_type": "markdown",
   "id": "bf958a69-b65c-4976-a2aa-9e1602d5eb3c",
   "metadata": {},
   "source": [
    "https://careerkarma.com/blog/python-valueerror-io-operation-on-closed-file/"
   ]
  },
  {
   "cell_type": "markdown",
   "id": "6958245f-5fa4-4f19-966a-6ab92edb0847",
   "metadata": {},
   "source": [
    "https://www.programiz.com/python-programming/file-operation"
   ]
  },
  {
   "cell_type": "markdown",
   "id": "67f74215-bedc-48f2-a482-1941fe683104",
   "metadata": {},
   "source": [
    "https://www.kite.com/python/answers/how-to-split-a-pandas-dataframe-column-in-python"
   ]
  },
  {
   "cell_type": "markdown",
   "id": "5fd60a60-b66e-4e8c-990c-bd1bae8de0e9",
   "metadata": {},
   "source": [
    "# END."
   ]
  }
 ],
 "metadata": {
  "kernelspec": {
   "display_name": "Python 3",
   "language": "python",
   "name": "python3"
  },
  "language_info": {
   "codemirror_mode": {
    "name": "ipython",
    "version": 3
   },
   "file_extension": ".py",
   "mimetype": "text/x-python",
   "name": "python",
   "nbconvert_exporter": "python",
   "pygments_lexer": "ipython3",
   "version": "3.8.8"
  }
 },
 "nbformat": 4,
 "nbformat_minor": 5
}
